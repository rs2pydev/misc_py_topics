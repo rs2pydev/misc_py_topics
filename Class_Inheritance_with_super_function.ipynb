{
  "cells": [
    {
      "cell_type": "markdown",
      "metadata": {
        "id": "view-in-github",
        "colab_type": "text"
      },
      "source": [
        "<a href=\"https://colab.research.google.com/github/rs2pydev/pythonic_topics/blob/main/Class_Inheritance_with_super_function.ipynb\" target=\"_parent\"><img src=\"https://colab.research.google.com/assets/colab-badge.svg\" alt=\"Open In Colab\"/></a>"
      ]
    },
    {
      "cell_type": "markdown",
      "metadata": {
        "id": "ex3ea7SowHcZ"
      },
      "source": [
        "<h1><center><b>Understanding the role of the <code>super()</code> function in class inheritance</b></center></h1>"
      ]
    },
    {
      "cell_type": "markdown",
      "metadata": {
        "heading_collapsed": true,
        "id": "5BR6y2L59UL6"
      },
      "source": [
        "## **Table of Contents**"
      ]
    },
    {
      "cell_type": "markdown",
      "metadata": {
        "hidden": true,
        "id": "rJfBsIkE9UPe"
      },
      "source": [
        "1. **[Section-1: Resources](#1)**\n",
        "2. **[Section-2: Overview](#2)**\n",
        "3. **[Section-3: Objects and Classes - An overview](#3)**\n",
        "4. **[Section-4: An overview of Python’s `super()` function](#4)**\n",
        "5. **[Section-5: Using `super()` function in single inheritance scenario](#5)**\n",
        "6. **[Section-6: Using `super()` function in multiple inheritance scenario](#6)**\n",
        "7. **[Section-7: Wrap up](#7)**"
      ]
    },
    {
      "cell_type": "markdown",
      "metadata": {
        "heading_collapsed": true,
        "id": "Yhpleomzwg_p"
      },
      "source": [
        "## **<a name=\"1\">Section-1: Resources</a>**"
      ]
    },
    {
      "cell_type": "markdown",
      "metadata": {
        "hidden": true,
        "id": "y2da-xGopQMd"
      },
      "source": [
        "* **Article:** [Supercharge Your Classes With Python `super()`](https://realpython.com/python-super/)\n",
        "\n",
        "* **Video Lesson** [INHERITANCE AND `super` IN PYTHON](https://realpython.com/lessons/object-inheritance-python/) "
      ]
    },
    {
      "cell_type": "markdown",
      "metadata": {
        "hidden": true,
        "id": "4Y1LmXV9fei5"
      },
      "source": [
        ""
      ]
    },
    {
      "cell_type": "markdown",
      "metadata": {
        "heading_collapsed": true,
        "id": "jZ-NrYi7fe09"
      },
      "source": [
        "## **<a name=\"2\">Section-2: Overview</a>**"
      ]
    },
    {
      "cell_type": "markdown",
      "metadata": {
        "hidden": true,
        "id": "xdBJGp4ypXD2"
      },
      "source": [
        "Python allows the building of applications using the object-oriented paradigm (OOP). One of the ways in which Python achieves this is by supporting inheritance, using `super()` function. The objective of this tutorial is to establish a clear understanding of `super()` function. "
      ]
    },
    {
      "cell_type": "markdown",
      "metadata": {
        "hidden": true,
        "id": "BtoiGm_VpXKl"
      },
      "source": [
        "In this tutorial, we'll learn about the following:\n",
        "* **The concept of inheritance in Python**\n",
        "* **Multiple inheritance in Python**\n",
        "* **How the `super()` function works**\n",
        "* **How the `super()` function in single inheritance works**\n",
        "* **How the `super()` function in multiple inheritance works**"
      ]
    },
    {
      "cell_type": "markdown",
      "metadata": {
        "heading_collapsed": true,
        "id": "SCwIS74i11fB"
      },
      "source": [
        "## **<a name=\"3\">Section-3: Objects and Classes - An overview</a>**"
      ]
    },
    {
      "cell_type": "markdown",
      "metadata": {
        "hidden": true,
        "id": "bOnC0nD-wOSZ"
      },
      "source": [
        "**What is an object?** \n",
        "\n",
        "An object is a way of grouping data and method(s) that work on the data, together. "
      ]
    },
    {
      "cell_type": "markdown",
      "metadata": {
        "hidden": true,
        "id": "GZJRYnCkwOXH"
      },
      "source": [
        "**Objects are often used map to things in the real world, for instance:**\n",
        "\n",
        "* If we are builidng a software application for a *course*, we can create a **`Person` object** representing the students, with **attributes** (**data**) like `name` and `address`, and **methods** (*functions acting on the object data*) such as adding the **`Person`** to the course, `add_to_course()`, and saving the attributes of the `Person`, `save_data()`.\n",
        "\n",
        "* If we are creating an accounting software, we can create a **`BalanceSheet` object** with attribute lists like `assets[]` and `liabilities[]` and methods to operate on them such as `total_assets()`."
      ]
    },
    {
      "cell_type": "markdown",
      "metadata": {
        "hidden": true,
        "id": "wOr_JOQ9wObq"
      },
      "source": [
        "\n",
        "**What is a class?** \n",
        "\n",
        "* A class defines how to create an object. That is, a set of instructions (*blueprint*) to make an object from scratch. \n",
        "* Using a class to create an object is referred to as *instantiation*. "
      ]
    },
    {
      "cell_type": "markdown",
      "metadata": {
        "hidden": true,
        "id": "3TE1FcG3wOgI"
      },
      "source": [
        "### **3.1 Create a simple `Square` class without data and methods** "
      ]
    },
    {
      "cell_type": "code",
      "execution_count": null,
      "metadata": {
        "ExecuteTime": {
          "end_time": "2022-07-19T10:44:33.244808Z",
          "start_time": "2022-07-19T10:44:33.241432Z"
        },
        "hidden": true,
        "id": "Bz8S92aAwOkz"
      },
      "outputs": [],
      "source": [
        "############################\n",
        "# Create a class without\n",
        "# any data or methods\n",
        "############################\n",
        "class Square:\n",
        "    pass "
      ]
    },
    {
      "cell_type": "code",
      "execution_count": null,
      "metadata": {
        "ExecuteTime": {
          "end_time": "2022-07-19T10:44:33.252960Z",
          "start_time": "2022-07-19T10:44:33.247342Z"
        },
        "hidden": true,
        "id": "825GGCQUuefJ"
      },
      "outputs": [],
      "source": [
        "############################\n",
        "# Object instantiation\n",
        "############################\n",
        "\n",
        "square = Square()"
      ]
    },
    {
      "cell_type": "code",
      "execution_count": null,
      "metadata": {
        "ExecuteTime": {
          "end_time": "2022-07-19T10:44:33.260140Z",
          "start_time": "2022-07-19T10:44:33.254889Z"
        },
        "hidden": true,
        "id": "uUgZWYezuehs"
      },
      "outputs": [],
      "source": [
        "##############################################################\n",
        "# Add an object (instance) attribute called `length` \n",
        "##############################################################\n",
        "\n",
        "square.length = 1.0"
      ]
    },
    {
      "cell_type": "code",
      "execution_count": null,
      "metadata": {
        "ExecuteTime": {
          "end_time": "2022-07-19T10:44:33.271263Z",
          "start_time": "2022-07-19T10:44:33.262340Z"
        },
        "colab": {
          "base_uri": "https://localhost:8080/"
        },
        "hidden": true,
        "id": "kCby7xt0uej4",
        "outputId": "15177753-8cc3-43d1-ed6e-e99fc755f004"
      },
      "outputs": [
        {
          "output_type": "stream",
          "name": "stdout",
          "text": [
            "List of attributes and methods attached to the `square` object:\n",
            "\n",
            "__class__,\n",
            "__delattr__,\n",
            "__dict__,\n",
            "__dir__,\n",
            "__doc__,\n",
            "__eq__,\n",
            "__format__,\n",
            "__ge__,\n",
            "__getattribute__,\n",
            "__gt__,\n",
            "__hash__,\n",
            "__init__,\n",
            "__init_subclass__,\n",
            "__le__,\n",
            "__lt__,\n",
            "__module__,\n",
            "__ne__,\n",
            "__new__,\n",
            "__reduce__,\n",
            "__reduce_ex__,\n",
            "__repr__,\n",
            "__setattr__,\n",
            "__sizeof__,\n",
            "__str__,\n",
            "__subclasshook__,\n",
            "__weakref__,\n",
            "length\n",
            "\n"
          ]
        }
      ],
      "source": [
        "############################################################\n",
        "# Use the builtin `dir()` function we can find all the \n",
        "# attributes and methods that are attached to an object \n",
        "# (instance) created from a class\n",
        "############################################################\n",
        "\n",
        "print(\"List of attributes and methods attached to the `square` object:\\n\")\n",
        "print(*dir(square), sep=\",\\n\", end=\"\\n\\n\")"
      ]
    },
    {
      "cell_type": "code",
      "execution_count": null,
      "metadata": {
        "ExecuteTime": {
          "end_time": "2022-07-19T10:44:33.280197Z",
          "start_time": "2022-07-19T10:44:33.272850Z"
        },
        "colab": {
          "base_uri": "https://localhost:8080/"
        },
        "hidden": true,
        "id": "KDX40I30uenQ",
        "outputId": "1ab57062-ed07-4dbb-82f0-72240a70ae4d"
      },
      "outputs": [
        {
          "output_type": "stream",
          "name": "stdout",
          "text": [
            "List of attributes and methods attached to the `Square` class:\n",
            "\n",
            "__class__,\n",
            "__delattr__,\n",
            "__dict__,\n",
            "__dir__,\n",
            "__doc__,\n",
            "__eq__,\n",
            "__format__,\n",
            "__ge__,\n",
            "__getattribute__,\n",
            "__gt__,\n",
            "__hash__,\n",
            "__init__,\n",
            "__init_subclass__,\n",
            "__le__,\n",
            "__lt__,\n",
            "__module__,\n",
            "__ne__,\n",
            "__new__,\n",
            "__reduce__,\n",
            "__reduce_ex__,\n",
            "__repr__,\n",
            "__setattr__,\n",
            "__sizeof__,\n",
            "__str__,\n",
            "__subclasshook__,\n",
            "__weakref__\n",
            "\n"
          ]
        }
      ],
      "source": [
        "############################################################\n",
        "# Use the builtin `dir()` function we can find all the \n",
        "# attributes and methods that are attached to a class\n",
        "############################################################\n",
        "\n",
        "print(\"List of attributes and methods attached to the `Square` class:\\n\")\n",
        "print(*dir(Square), sep=\",\\n\", end=\"\\n\\n\")"
      ]
    },
    {
      "cell_type": "code",
      "execution_count": null,
      "metadata": {
        "ExecuteTime": {
          "end_time": "2022-07-19T10:44:33.286301Z",
          "start_time": "2022-07-19T10:44:33.282626Z"
        },
        "colab": {
          "base_uri": "https://localhost:8080/"
        },
        "hidden": true,
        "id": "CuyjUYh6u44y",
        "outputId": "94d1156d-db0b-4af8-a2a0-23d4c354dc0a"
      },
      "outputs": [
        {
          "output_type": "stream",
          "name": "stdout",
          "text": [
            "Class info on `square` object: <class '__main__.Square'>\n",
            "\n",
            "Class info on `square` object: <class '__main__.Square'>\n",
            "\n"
          ]
        }
      ],
      "source": [
        "############################################################\n",
        "# To find information on the class used to create an object\n",
        "# we can either use the `__class__` method on the object\n",
        "# or, the `type()` function\n",
        "############################################################\n",
        "\n",
        "print(f'Class info on `square` object: {str(square.__class__):s}\\n')\n",
        "print(f'Class info on `square` object: {str(type(square)):s}\\n')"
      ]
    },
    {
      "cell_type": "markdown",
      "metadata": {
        "hidden": true,
        "id": "k-YIwqsk2Xyj"
      },
      "source": [
        "### **3.2. Add attributes and methods to the `Square` class** "
      ]
    },
    {
      "cell_type": "markdown",
      "metadata": {
        "hidden": true,
        "id": "iXp9xz666H06"
      },
      "source": [
        "The `__init__()` method is called a **class constructor** because every time an object is instantiated from the class, this method is invoked. The `__init__()` method allows us to add data (instance attributes) and functions (methods) to a class. \n",
        "\n",
        "We will use the **class constructor** to add attributes (data) and methods to our `Square` class. "
      ]
    },
    {
      "cell_type": "code",
      "execution_count": null,
      "metadata": {
        "ExecuteTime": {
          "end_time": "2022-07-19T10:44:33.292610Z",
          "start_time": "2022-07-19T10:44:33.288922Z"
        },
        "hidden": true,
        "id": "BOh4PSx52X0v"
      },
      "outputs": [],
      "source": [
        "class Square:\n",
        "\n",
        "\n",
        "    def __init__(self, length):\n",
        "        # Here, `length` is an instance attribute \n",
        "        # rather than a class attribute \n",
        "        self.length = length\n",
        "\n",
        "\n",
        "    def area(self):\n",
        "        return float(self.length * self.length)\n",
        "\n",
        "\n",
        "    def perimeter(self):\n",
        "        return 4.0 * self.length "
      ]
    },
    {
      "cell_type": "code",
      "execution_count": null,
      "metadata": {
        "ExecuteTime": {
          "end_time": "2022-07-19T10:44:33.299373Z",
          "start_time": "2022-07-19T10:44:33.294537Z"
        },
        "hidden": true,
        "id": "YFGeyeU42X27"
      },
      "outputs": [],
      "source": [
        "square = Square(3)"
      ]
    },
    {
      "cell_type": "code",
      "execution_count": null,
      "metadata": {
        "ExecuteTime": {
          "end_time": "2022-07-19T10:44:33.306928Z",
          "start_time": "2022-07-19T10:44:33.301311Z"
        },
        "colab": {
          "base_uri": "https://localhost:8080/"
        },
        "hidden": true,
        "id": "FYvthUKKu48R",
        "outputId": "d299f07c-4fcc-446b-9f8f-f52fea0e1cea"
      },
      "outputs": [
        {
          "output_type": "stream",
          "name": "stdout",
          "text": [
            "<class '__main__.Square'> \n",
            "\n",
            "<class '__main__.Square'> \n",
            "\n"
          ]
        }
      ],
      "source": [
        "print(type(square), \"\\n\")\n",
        "print(square.__class__, \"\\n\")"
      ]
    },
    {
      "cell_type": "code",
      "execution_count": null,
      "metadata": {
        "ExecuteTime": {
          "end_time": "2022-07-19T10:44:33.314280Z",
          "start_time": "2022-07-19T10:44:33.309091Z"
        },
        "colab": {
          "base_uri": "https://localhost:8080/"
        },
        "hidden": true,
        "id": "AEucRE3RvqxY",
        "outputId": "64485127-f841-4346-8d85-12081016a70b"
      },
      "outputs": [
        {
          "output_type": "stream",
          "name": "stdout",
          "text": [
            "9.0 \n",
            "\n",
            "12.0 \n",
            "\n"
          ]
        }
      ],
      "source": [
        "print(square.area(), \"\\n\")\n",
        "print(square.perimeter(), \"\\n\")"
      ]
    },
    {
      "cell_type": "code",
      "execution_count": null,
      "metadata": {
        "ExecuteTime": {
          "end_time": "2022-07-19T10:44:33.326171Z",
          "start_time": "2022-07-19T10:44:33.316683Z"
        },
        "colab": {
          "base_uri": "https://localhost:8080/"
        },
        "hidden": true,
        "id": "07e18YUnvqrh",
        "outputId": "655f4874-84b6-4131-e59d-f082de5607ff"
      },
      "outputs": [
        {
          "output_type": "stream",
          "name": "stdout",
          "text": [
            "__class__\n",
            "__delattr__\n",
            "__dict__\n",
            "__dir__\n",
            "__doc__\n",
            "__eq__\n",
            "__format__\n",
            "__ge__\n",
            "__getattribute__\n",
            "__gt__\n",
            "__hash__\n",
            "__init__\n",
            "__init_subclass__\n",
            "__le__\n",
            "__lt__\n",
            "__module__\n",
            "__ne__\n",
            "__new__\n",
            "__reduce__\n",
            "__reduce_ex__\n",
            "__repr__\n",
            "__setattr__\n",
            "__sizeof__\n",
            "__str__\n",
            "__subclasshook__\n",
            "__weakref__\n",
            "area\n",
            "length\n",
            "perimeter\n",
            "\n"
          ]
        }
      ],
      "source": [
        "print(*dir(square), sep=\"\\n\", end=\"\\n\\n\")"
      ]
    },
    {
      "cell_type": "code",
      "execution_count": null,
      "metadata": {
        "ExecuteTime": {
          "end_time": "2022-07-19T10:44:33.337118Z",
          "start_time": "2022-07-19T10:44:33.328836Z"
        },
        "colab": {
          "base_uri": "https://localhost:8080/"
        },
        "hidden": true,
        "id": "8rwV1E3Wvqt6",
        "outputId": "2b093f40-82e8-4683-c02a-9f8c38bce0f0"
      },
      "outputs": [
        {
          "output_type": "stream",
          "name": "stdout",
          "text": [
            "__class__\n",
            "__delattr__\n",
            "__dict__\n",
            "__dir__\n",
            "__doc__\n",
            "__eq__\n",
            "__format__\n",
            "__ge__\n",
            "__getattribute__\n",
            "__gt__\n",
            "__hash__\n",
            "__init__\n",
            "__init_subclass__\n",
            "__le__\n",
            "__lt__\n",
            "__module__\n",
            "__ne__\n",
            "__new__\n",
            "__reduce__\n",
            "__reduce_ex__\n",
            "__repr__\n",
            "__setattr__\n",
            "__sizeof__\n",
            "__str__\n",
            "__subclasshook__\n",
            "__weakref__\n",
            "area\n",
            "perimeter\n",
            "\n"
          ]
        }
      ],
      "source": [
        "print(*dir(Square), sep=\"\\n\", end=\"\\n\\n\")"
      ]
    },
    {
      "cell_type": "markdown",
      "metadata": {
        "hidden": true,
        "id": "qYLLqqqp2X6U"
      },
      "source": [
        "### **3.3 Create a `Rectangle` class with data and methods**"
      ]
    },
    {
      "cell_type": "markdown",
      "metadata": {
        "hidden": true,
        "id": "pb5JJhOOwBYl"
      },
      "source": [
        "Let us now create a `Rectangle` class with appropriate instance attributes and methods."
      ]
    },
    {
      "cell_type": "code",
      "execution_count": null,
      "metadata": {
        "ExecuteTime": {
          "end_time": "2022-07-19T10:44:33.342137Z",
          "start_time": "2022-07-19T10:44:33.339184Z"
        },
        "hidden": true,
        "id": "sNubNwxZ9Etw"
      },
      "outputs": [],
      "source": [
        "class Rectangle:\n",
        "\n",
        "\n",
        "    def __init__(self, length, width):\n",
        "        self.length = length\n",
        "        self.width = width\n",
        "\n",
        "\n",
        "    def area(self):\n",
        "        return float(self.length * self.width)\n",
        "\n",
        "\n",
        "    def perimeter(self):\n",
        "        return 2.0 * (self.length + self.width)"
      ]
    },
    {
      "cell_type": "code",
      "execution_count": null,
      "metadata": {
        "ExecuteTime": {
          "end_time": "2022-07-19T10:44:33.349050Z",
          "start_time": "2022-07-19T10:44:33.343725Z"
        },
        "hidden": true,
        "id": "S3dmUW639E3A"
      },
      "outputs": [],
      "source": [
        "rectangle = Rectangle(2.5, 0.5)"
      ]
    },
    {
      "cell_type": "code",
      "execution_count": null,
      "metadata": {
        "ExecuteTime": {
          "end_time": "2022-07-19T10:44:33.356710Z",
          "start_time": "2022-07-19T10:44:33.351054Z"
        },
        "colab": {
          "base_uri": "https://localhost:8080/"
        },
        "hidden": true,
        "id": "0KPni3eVwLX0",
        "outputId": "b4095110-64d7-42ca-cb22-62a7270a68b9"
      },
      "outputs": [
        {
          "output_type": "stream",
          "name": "stdout",
          "text": [
            "<class '__main__.Rectangle'> \n",
            "\n",
            "<class '__main__.Rectangle'> \n",
            "\n"
          ]
        }
      ],
      "source": [
        "print(type(rectangle), \"\\n\")\n",
        "print(rectangle.__class__, \"\\n\")"
      ]
    },
    {
      "cell_type": "code",
      "execution_count": null,
      "metadata": {
        "ExecuteTime": {
          "end_time": "2022-07-19T10:44:33.364748Z",
          "start_time": "2022-07-19T10:44:33.358573Z"
        },
        "colab": {
          "base_uri": "https://localhost:8080/"
        },
        "hidden": true,
        "id": "wUT4g4w-wLaT",
        "outputId": "d7f00bed-b9cd-4690-9484-2990493fa441"
      },
      "outputs": [
        {
          "output_type": "stream",
          "name": "stdout",
          "text": [
            "1.25 \n",
            "\n",
            "6.0 \n",
            "\n"
          ]
        }
      ],
      "source": [
        "print(rectangle.area(), \"\\n\")\n",
        "print(rectangle.perimeter(), \"\\n\")"
      ]
    },
    {
      "cell_type": "code",
      "execution_count": null,
      "metadata": {
        "ExecuteTime": {
          "end_time": "2022-07-19T10:44:33.377015Z",
          "start_time": "2022-07-19T10:44:33.366603Z"
        },
        "colab": {
          "base_uri": "https://localhost:8080/"
        },
        "hidden": true,
        "id": "gT4hrOzfwLdy",
        "outputId": "5009cc9b-6d9f-420d-8b01-db6d5bd4af39"
      },
      "outputs": [
        {
          "output_type": "stream",
          "name": "stdout",
          "text": [
            "__class__\n",
            "__delattr__\n",
            "__dict__\n",
            "__dir__\n",
            "__doc__\n",
            "__eq__\n",
            "__format__\n",
            "__ge__\n",
            "__getattribute__\n",
            "__gt__\n",
            "__hash__\n",
            "__init__\n",
            "__init_subclass__\n",
            "__le__\n",
            "__lt__\n",
            "__module__\n",
            "__ne__\n",
            "__new__\n",
            "__reduce__\n",
            "__reduce_ex__\n",
            "__repr__\n",
            "__setattr__\n",
            "__sizeof__\n",
            "__str__\n",
            "__subclasshook__\n",
            "__weakref__\n",
            "area\n",
            "length\n",
            "perimeter\n",
            "width\n",
            "\n"
          ]
        }
      ],
      "source": [
        "print(*dir(rectangle), sep=\"\\n\", end=\"\\n\\n\")"
      ]
    },
    {
      "cell_type": "code",
      "execution_count": null,
      "metadata": {
        "ExecuteTime": {
          "end_time": "2022-07-19T10:44:33.385871Z",
          "start_time": "2022-07-19T10:44:33.378727Z"
        },
        "colab": {
          "base_uri": "https://localhost:8080/"
        },
        "hidden": true,
        "id": "S-3LnHLjwR3p",
        "outputId": "7ef39ba9-4f09-4d5f-9de5-077181fec9f2"
      },
      "outputs": [
        {
          "output_type": "stream",
          "name": "stdout",
          "text": [
            "__class__\n",
            "__delattr__\n",
            "__dict__\n",
            "__dir__\n",
            "__doc__\n",
            "__eq__\n",
            "__format__\n",
            "__ge__\n",
            "__getattribute__\n",
            "__gt__\n",
            "__hash__\n",
            "__init__\n",
            "__init_subclass__\n",
            "__le__\n",
            "__lt__\n",
            "__module__\n",
            "__ne__\n",
            "__new__\n",
            "__reduce__\n",
            "__reduce_ex__\n",
            "__repr__\n",
            "__setattr__\n",
            "__sizeof__\n",
            "__str__\n",
            "__subclasshook__\n",
            "__weakref__\n",
            "area\n",
            "perimeter\n",
            "\n"
          ]
        }
      ],
      "source": [
        "print(*dir(Rectangle), sep=\"\\n\", end=\"\\n\\n\")"
      ]
    },
    {
      "cell_type": "markdown",
      "metadata": {
        "heading_collapsed": true,
        "id": "tf70Vu39hcIF"
      },
      "source": [
        "## **<a name=\"4\">Section-4: An overview of Python’s `super()` function</a>**\n",
        "\n"
      ]
    },
    {
      "cell_type": "markdown",
      "metadata": {
        "hidden": true,
        "id": "bQ_AFeR0pv0s"
      },
      "source": [
        "Suppose we have a **base/parent** class called **`A`** and a child class called **`B`** that inherits from **`A`**. Then, very simply speaking, the `super()` function allows **`B`** to access the methods of **`A`**. Often, the base/parent class is called the **superclass** while the child class is called **subclass**. \n"
      ]
    },
    {
      "cell_type": "markdown",
      "metadata": {
        "hidden": true,
        "id": "NaKNm4nVsdv3"
      },
      "source": [
        "The `super()` function alone returns a temporary object of the **superclass** that then allows us to call that superclass’s methods. "
      ]
    },
    {
      "cell_type": "markdown",
      "metadata": {
        "hidden": true,
        "id": "ZKXf3pgupv21"
      },
      "source": [
        "The main utility of the `super()` function is that it makes the  building of classes easy by extending the functionality of previously built classes. Calling the previously built methods with `super()` thus, saves us from needing to rewrite those methods in our subclass. This is turn, allows us to swap out superclasses with minimal code changes. "
      ]
    },
    {
      "cell_type": "markdown",
      "metadata": {
        "heading_collapsed": true,
        "id": "atyq1OeLsd-m"
      },
      "source": [
        "## **<a name=\"5\">Section-5: Using `super()` function in single inheritance scenario</a>**"
      ]
    },
    {
      "cell_type": "markdown",
      "metadata": {
        "hidden": true,
        "id": "wU2ccBoTpv6Q"
      },
      "source": [
        "**What is class inheritance?** \n",
        "\n",
        "Inheritance is a concept in object-oriented programming in which a class derives (or inherits) attributes and behaviors from another class.  "
      ]
    },
    {
      "cell_type": "markdown",
      "metadata": {
        "hidden": true,
        "id": "eFOdwEbsHXqE"
      },
      "source": [
        "Above, we have created two separate classes representing two polygons, namely, square and rectangle. These two polygons are however, related to each other: *A square is a special kind of rectangle with both sides equal*. But the way in which we have constructed the classes doesn’t reflect this relationship. As a result we have written code that is essentially repeated. "
      ]
    },
    {
      "cell_type": "markdown",
      "metadata": {
        "hidden": true,
        "id": "20bLP3nJxbaX"
      },
      "source": [
        "By using inheritance, we can reduce the amount of code that we write as well as simultaneously reflecting the real-world relationship between rectangles and squares. Thus, instead of defining two separate classes, `Square` and `Rectangle`, we will use the `Reactangle` class as the **base/parent/super** class and create the `Square` class as a **child/sub** class that inherits its data and methods from the `Rectangle` class. "
      ]
    },
    {
      "cell_type": "code",
      "execution_count": null,
      "metadata": {
        "ExecuteTime": {
          "end_time": "2022-07-19T10:44:33.417217Z",
          "start_time": "2022-07-19T10:44:33.413728Z"
        },
        "hidden": true,
        "id": "H-QdjBxMHXsb"
      },
      "outputs": [],
      "source": [
        "#########################################################\n",
        "# Create the base/parent class\n",
        "#########################################################\n",
        "\n",
        "class Rectangle:\n",
        "\n",
        "\n",
        "    def __init__(self, length, width):\n",
        "        self.length = length\n",
        "        self.width = width\n",
        "\n",
        "\n",
        "    def area(self):\n",
        "        return float(self.length * self.width)\n",
        "\n",
        "\n",
        "    def perimeter(self):\n",
        "        return 2.0 * (self.length + self.width)"
      ]
    },
    {
      "cell_type": "code",
      "execution_count": null,
      "metadata": {
        "ExecuteTime": {
          "end_time": "2022-07-19T10:44:33.423897Z",
          "start_time": "2022-07-19T10:44:33.419747Z"
        },
        "hidden": true,
        "id": "wZg8TibDHXuo"
      },
      "outputs": [],
      "source": [
        "############################################################\n",
        "# We declare that the `Square` class inherits from the \n",
        "# `Rectangle` class with the `super()` function.\n",
        "############################################################\n",
        "class Square(Rectangle):\n",
        "\n",
        "    def __init__(self, length):\n",
        "        super().__init__(length, length)"
      ]
    },
    {
      "cell_type": "markdown",
      "metadata": {
        "hidden": true,
        "id": "x07FkqQHtvIE"
      },
      "source": [
        "Here, we’ve used `super()` function to call the `__init__()` method of the `Rectangle` class, thereby allowing us to use it in the `Square` class without repeating code. "
      ]
    },
    {
      "cell_type": "markdown",
      "metadata": {
        "hidden": true,
        "id": "ccFlZUPXzEiz"
      },
      "source": [
        "In this example, `Rectangle` is the **superclass**, and `Square` is the **subclass**.\n",
        "\n",
        "Because the `__init__()` methods of the `Square` and `Rectangle` classes are so similar, we can simply call the superclass's `__init__()` method, i.e., the `Rectangle.__init__()` method, from the `__init__()` method of the `Square` class by using the `super()` function. This sets the `length` and `width` attributes even though we just had to supply a single `length` attribute to the `Square` constructor."
      ]
    },
    {
      "cell_type": "code",
      "execution_count": null,
      "metadata": {
        "ExecuteTime": {
          "end_time": "2022-07-19T10:44:33.441532Z",
          "start_time": "2022-07-19T10:44:33.438904Z"
        },
        "hidden": true,
        "id": "SW8zBMYwKaL2"
      },
      "outputs": [],
      "source": [
        "square = Square(3.0)"
      ]
    },
    {
      "cell_type": "code",
      "execution_count": null,
      "metadata": {
        "ExecuteTime": {
          "end_time": "2022-07-19T10:44:33.454623Z",
          "start_time": "2022-07-19T10:44:33.444363Z"
        },
        "colab": {
          "base_uri": "https://localhost:8080/"
        },
        "hidden": true,
        "id": "dNvPwLs2ysEW",
        "outputId": "e2706413-50f7-4f27-8544-8dfeecd16bef"
      },
      "outputs": [
        {
          "output_type": "stream",
          "name": "stdout",
          "text": [
            "__class__\n",
            "__delattr__\n",
            "__dict__\n",
            "__dir__\n",
            "__doc__\n",
            "__eq__\n",
            "__format__\n",
            "__ge__\n",
            "__getattribute__\n",
            "__gt__\n",
            "__hash__\n",
            "__init__\n",
            "__init_subclass__\n",
            "__le__\n",
            "__lt__\n",
            "__module__\n",
            "__ne__\n",
            "__new__\n",
            "__reduce__\n",
            "__reduce_ex__\n",
            "__repr__\n",
            "__setattr__\n",
            "__sizeof__\n",
            "__str__\n",
            "__subclasshook__\n",
            "__weakref__\n",
            "area\n",
            "length\n",
            "perimeter\n",
            "width\n",
            "\n"
          ]
        }
      ],
      "source": [
        "print(*dir(square), sep=\"\\n\", end=\"\\n\\n\") "
      ]
    },
    {
      "cell_type": "code",
      "execution_count": null,
      "metadata": {
        "ExecuteTime": {
          "end_time": "2022-07-19T10:44:33.462488Z",
          "start_time": "2022-07-19T10:44:33.456609Z"
        },
        "colab": {
          "base_uri": "https://localhost:8080/"
        },
        "hidden": true,
        "id": "Ai-MWa28ysGw",
        "outputId": "84dccc01-5da4-4617-a638-a14ba4a4bc23"
      },
      "outputs": [
        {
          "output_type": "stream",
          "name": "stdout",
          "text": [
            "__class__\n",
            "__delattr__\n",
            "__dict__\n",
            "__dir__\n",
            "__doc__\n",
            "__eq__\n",
            "__format__\n",
            "__ge__\n",
            "__getattribute__\n",
            "__gt__\n",
            "__hash__\n",
            "__init__\n",
            "__init_subclass__\n",
            "__le__\n",
            "__lt__\n",
            "__module__\n",
            "__ne__\n",
            "__new__\n",
            "__reduce__\n",
            "__reduce_ex__\n",
            "__repr__\n",
            "__setattr__\n",
            "__sizeof__\n",
            "__str__\n",
            "__subclasshook__\n",
            "__weakref__\n",
            "area\n",
            "perimeter\n",
            "\n"
          ]
        }
      ],
      "source": [
        "print(*dir(Square), sep=\"\\n\", end=\"\\n\\n\")"
      ]
    },
    {
      "cell_type": "code",
      "execution_count": null,
      "metadata": {
        "ExecuteTime": {
          "end_time": "2022-07-19T10:44:33.469220Z",
          "start_time": "2022-07-19T10:44:33.464850Z"
        },
        "colab": {
          "base_uri": "https://localhost:8080/"
        },
        "hidden": true,
        "id": "E33VdMyzysJY",
        "outputId": "76f7b3fc-d0a7-4e89-81e3-4466c1362fae"
      },
      "outputs": [
        {
          "output_type": "stream",
          "name": "stdout",
          "text": [
            "<class '__main__.Square'>\n",
            "\n",
            "<class '__main__.Square'>\n",
            "\n",
            "<class '__main__.Rectangle'>\n"
          ]
        }
      ],
      "source": [
        "print(square.__class__)\n",
        "print()\n",
        "print(type(square))\n",
        "print()\n",
        "print(square.__class__.__base__)"
      ]
    },
    {
      "cell_type": "markdown",
      "metadata": {
        "hidden": true,
        "id": "1dypXPZO0Kdq"
      },
      "source": [
        "### **What can `super()` function do?**"
      ]
    },
    {
      "cell_type": "markdown",
      "metadata": {
        "hidden": true,
        "id": "3aiRfmCT5BHL"
      },
      "source": [
        "The primary use case of the `super()` function is to extend the functionality of the inherited method.\n",
        "\n",
        "In the example below, we will create a class `Cube` that inherits from `Square` class and extends the functionality of `.area()` (inherited from the `Rectangle` class through `Square`) to calculate the surface area and volume of a `Cube` instance."
      ]
    },
    {
      "cell_type": "code",
      "execution_count": null,
      "metadata": {
        "ExecuteTime": {
          "end_time": "2022-07-19T10:44:33.475749Z",
          "start_time": "2022-07-19T10:44:33.471786Z"
        },
        "hidden": true,
        "id": "zl0tHCG11RKL"
      },
      "outputs": [],
      "source": [
        "class Square(Rectangle):\n",
        "\n",
        "\n",
        "    def __init__(self, length):\n",
        "        super().__init__(length, length)\n",
        "\n",
        "\n",
        "class Cube(Square):\n",
        "\n",
        "\n",
        "    def surface_area(self):\n",
        "        face_area = super().area()\n",
        "        return 6.0 * face_area\n",
        "\n",
        "\n",
        "    def volume(self):\n",
        "        face_area = super().area()\n",
        "        return face_area * self.length "
      ]
    },
    {
      "cell_type": "code",
      "execution_count": null,
      "metadata": {
        "ExecuteTime": {
          "end_time": "2022-07-19T10:44:33.482291Z",
          "start_time": "2022-07-19T10:44:33.478243Z"
        },
        "hidden": true,
        "id": "14NrXw0ZysLW"
      },
      "outputs": [],
      "source": [
        "cube = Cube(3.0)"
      ]
    },
    {
      "cell_type": "code",
      "execution_count": null,
      "metadata": {
        "ExecuteTime": {
          "end_time": "2022-07-19T10:44:33.489551Z",
          "start_time": "2022-07-19T10:44:33.484469Z"
        },
        "colab": {
          "base_uri": "https://localhost:8080/"
        },
        "hidden": true,
        "id": "upMw8tfZysOw",
        "outputId": "c5af5df3-dea2-446f-cf4e-b484f6704ed5"
      },
      "outputs": [
        {
          "output_type": "stream",
          "name": "stdout",
          "text": [
            "Surface area of cube of length 3.0: 54.0\n",
            "\n",
            "Volume of cube of length 3.0: 27.0\n",
            "\n"
          ]
        }
      ],
      "source": [
        "print(f'Surface area of cube of length 3.0: {cube.surface_area()}\\n')\n",
        "print(f'Volume of cube of length 3.0: {cube.volume()}\\n')"
      ]
    },
    {
      "cell_type": "markdown",
      "metadata": {
        "hidden": true,
        "id": "a7k4y_BYQUyX"
      },
      "source": [
        "Here we have implemented two methods for the `Cube` class: \n",
        "* `.surface_area()` \n",
        "* `.volume()`. \n",
        "\n",
        "Both of these calculations rely on calculating the area of a single face, so rather than reimplementing the area calculation, we use `super()` function to extend the area calculation.\n",
        "\n",
        "Notice that the `Cube` class definition does not have an `.__init__()` constructor method. Since the `Cube` class inherits from `Square` class, the `.__init__()` method doesn’t really do anything differently for `Cube` than it already does for `Square`. Hence we can skip defining it and the `.__init__()` constructor of the superclass (`Square`) will be called automatically.\n",
        "\n",
        "The `super()` returns a delegate object to a parent class, so we call the method we want directly on it: `super().area()`. Not only does this save us from having to rewrite the area calculations, but it also allows us to change the internal `.area()` method's logic in a single location. This is especially in handy when we have a number of subclasses inheriting from one superclass."
      ]
    },
    {
      "cell_type": "markdown",
      "metadata": {
        "hidden": true,
        "id": "gBDBAqpV43fY"
      },
      "source": [
        "### **Deep dive into the \"mechanics\" of the `super()` function**"
      ]
    },
    {
      "cell_type": "markdown",
      "metadata": {
        "hidden": true,
        "id": "lUVgcKw45LYK"
      },
      "source": [
        "Let us take a quick detour into the \"mechanics\" of the `super()` function.\n",
        "\n",
        "While the examples above (and below) call `super()` without any parameters, `super()` can also take two parameters: \n",
        "* The first parameter is the **subclass**.\n",
        "* The second parameter is an object that is an instance of that subclass.\n",
        "\n",
        "First, let's see two examples using the classes already shown:"
      ]
    },
    {
      "cell_type": "code",
      "execution_count": null,
      "metadata": {
        "ExecuteTime": {
          "end_time": "2022-07-19T10:44:33.518768Z",
          "start_time": "2022-07-19T10:44:33.514621Z"
        },
        "hidden": true,
        "id": "a7HizjCu3mIH"
      },
      "outputs": [],
      "source": [
        "class Rectangle:\n",
        "\n",
        "\n",
        "    def __init__(self, length, width):\n",
        "        self.length = length\n",
        "        self.width = width\n",
        "\n",
        "\n",
        "    def area(self):\n",
        "        return self.length * self.width\n",
        "\n",
        "\n",
        "    def perimeter(self):\n",
        "        return 2.0 * (self.length + self.width)\n",
        "\n",
        "\n",
        "class Square(Rectangle):\n",
        "\n",
        "\n",
        "    def __init__(self, length):\n",
        "        super(Rectangle, self).__init__(length, length)"
      ]
    },
    {
      "cell_type": "markdown",
      "metadata": {
        "hidden": true,
        "id": "38-HXf2i6YSH"
      },
      "source": [
        "* In Python 3, the `super(Square, self)` call is equivalent to the parameterless `super()` call. \n",
        "* The first parameter refers to the **subclass** `Square`. \n",
        "* The second parameter refers to a `Square` object which, in this case, is `self`. \n",
        "\n",
        "We can call the `super()` function with other classes as well (see below)."
      ]
    },
    {
      "cell_type": "code",
      "execution_count": null,
      "metadata": {
        "ExecuteTime": {
          "end_time": "2022-07-19T10:44:33.530930Z",
          "start_time": "2022-07-19T10:44:33.528189Z"
        },
        "hidden": true,
        "id": "ocNh0dUZ3mKT"
      },
      "outputs": [],
      "source": [
        "class Cube(Square):\n",
        "\n",
        "\n",
        "    def surface_area(self):\n",
        "        face_area = super(Square, self).area()\n",
        "        return 6.0 * face_area\n",
        "\n",
        "\n",
        "    def volume(self):\n",
        "        face_area = super(Square, self).area()\n",
        "        return face_area * self.length"
      ]
    },
    {
      "cell_type": "markdown",
      "metadata": {
        "hidden": true,
        "id": "tTODE8TO7QUm"
      },
      "source": [
        "* In the above example, we are setting `Square` as the __subclass__ argument to the `super()` function, instead of `Cube`. This causes the `super()` function to start searching for a matching method (in this case, `.area()`) at one level above `Square` in the instance hierarchy, in this case `Rectangle`.\n",
        "\n",
        "* In this specific example, the behavior doesn’t change. But imagine that `Square` also implemented an `.area()` method that we wanted to make sure `Cube` did not use. Calling the `super()` function in this way allows us to do that.\n",
        "\n",
        "* **The second parameter is an object that is an instance of the class used as the first parameter**. For an example, `isinstance(Cube, Square)` must return True. By including an instantiated object, the `super()` function returns a **bound method**: *A method that is bound to the object, which gives the method, the object's context such as any instance attributes*. **If this parameter is not included, the method returned is just a function, unassociated with an object’s context.**"
      ]
    },
    {
      "cell_type": "markdown",
      "metadata": {
        "hidden": true,
        "id": "PNBDs_Ki3mMy"
      },
      "source": [
        "__CAUTION:__ \n",
        "\n",
        "While we are doing a lot of fiddling with the parameters to the `super()` function in order to explore how it works under the hood, **do not do this on a regular basis**. The parameterless call to the `super()` function is the recommended approach and sufficient for most use cases, and needing to change the search hierarchy regularly could be indicative of a larger design issue."
      ]
    },
    {
      "cell_type": "markdown",
      "metadata": {
        "hidden": true,
        "id": "RWHjUOUw3mPY"
      },
      "source": [
        "__NOTE:__ \n",
        "\n",
        "Technically, the `super()` function doesn’t return a method. Rather, it returns a proxy object such that this object delegates (transfers) calls to the correct class methods without making and invoking an additional objects. "
      ]
    },
    {
      "cell_type": "markdown",
      "metadata": {
        "heading_collapsed": true,
        "id": "gSYLh7i43mRp"
      },
      "source": [
        "## **<a name=\"6\">Section-6: Using `super()` function in multiple inheritance scenario</a>**"
      ]
    },
    {
      "cell_type": "markdown",
      "metadata": {
        "hidden": true,
        "id": "HiwUqNs_-0w9"
      },
      "source": [
        "In the previous [section](#8) we've have worked through some examples, illustrating the use of the `super()` function in   single class inheritance scenario. In this section, we will see an overview and some examples on the use of the `super()` function in multiple inheritance scenario. "
      ]
    },
    {
      "cell_type": "markdown",
      "metadata": {
        "heading_collapsed": true,
        "hidden": true,
        "id": "1UksN97F3mVC"
      },
      "source": [
        "### **6.1 Overview of multiple inheritance**"
      ]
    },
    {
      "cell_type": "markdown",
      "metadata": {
        "hidden": true,
        "id": "r0WOBmsR-zXu"
      },
      "source": [
        "In addition to single inheritance, Python also supports multiple inheritance in which, a **subclass** can inherit from multiple **superclasses** that don’t necessarily inherit from each other. These **superclasses** are also known as **sibling classes**.\n",
        "\n",
        "<figure>\n",
        "<img src=\"https://files.realpython.com/media/multiple_inheritance.22fc2c1ac608.png\">\n",
        "<figcaption>\n",
        "<b>Fig-1:</b> <a href=\"https://realpython.com/python-super/\">A diagrammed example of multiple inheritance (Image: Kyle Stratis)</a>\n",
        "</figcaption>\n",
        "</figure>"
      ]
    },
    {
      "cell_type": "markdown",
      "metadata": {
        "hidden": true,
        "id": "fOnOVKnN-zZ6"
      },
      "source": [
        "To better understand the concept of multiple inheritance, let us see how we can build a *right pyramid*, i.e., a pyramid with a square base, out of a `Triangle` and a `Square`. The `Square` class has been already defined before in this tutorial."
      ]
    },
    {
      "cell_type": "markdown",
      "metadata": {
        "hidden": true,
        "id": "bvEt7u3wgVAG"
      },
      "source": [
        "The example given below, declares a `Triangle` class and a `RightPyramid` class such that the latter inherits from both `Square` and `Triangle` classes."
      ]
    },
    {
      "cell_type": "code",
      "execution_count": null,
      "metadata": {
        "ExecuteTime": {
          "end_time": "2022-07-19T10:44:33.629345Z",
          "start_time": "2022-07-19T10:44:33.624805Z"
        },
        "hidden": true,
        "id": "EE9VhxTU-zck"
      },
      "outputs": [],
      "source": [
        "class Triangle:\n",
        "\n",
        "\n",
        "    def __init__(self, base, height):\n",
        "        self.base = base\n",
        "        self.height = height\n",
        "\n",
        "\n",
        "    def area(self):\n",
        "        return 0.5 * self.base * self.height\n",
        "\n",
        "\n",
        "class RightPyramid(Triangle, Square):\n",
        "\n",
        "\n",
        "    def __init__(self, base, slant_height):\n",
        "        self.base = base\n",
        "        self.slant_height = slant_height\n",
        "\n",
        "\n",
        "    def area(self):\n",
        "        base_area = super().area() # comes from the `Triangle` class\n",
        "        perimeter = super().perimeter() # comes from the `Square` class\n",
        "        return 0.5 * perimeter * self.slant_height + base_area"
      ]
    },
    {
      "cell_type": "markdown",
      "metadata": {
        "hidden": true,
        "id": "aq9Fylis-ze8"
      },
      "source": [
        "__NOTE:__ The *slant height* of an object (such as a pyramid) is the distance measured along a lateral face from the base to the apex along the \"center\" of the face. Refer to the [image](https://mathworld.wolfram.com/SlantHeight.html) below to get a better visual understand. To know more, read about slant heights at [WolframMathWorld](http://mathworld.wolfram.com/SlantHeight.html).\n",
        "\n",
        "<img src=\"https://mathworld.wolfram.com/images/eps-svg/SlantHeight_1001.svg\" width=350>"
      ]
    },
    {
      "cell_type": "code",
      "execution_count": null,
      "metadata": {
        "ExecuteTime": {
          "end_time": "2022-07-19T10:44:33.641466Z",
          "start_time": "2022-07-19T10:44:33.638676Z"
        },
        "hidden": true,
        "id": "TgaDBqoegVAH"
      },
      "outputs": [],
      "source": [
        "pyramid = RightPyramid(2, 4)"
      ]
    },
    {
      "cell_type": "code",
      "execution_count": null,
      "metadata": {
        "ExecuteTime": {
          "end_time": "2022-07-19T10:44:33.668489Z",
          "start_time": "2022-07-19T10:44:33.644004Z"
        },
        "hidden": true,
        "colab": {
          "base_uri": "https://localhost:8080/",
          "height": 316
        },
        "id": "WJvEpbQfgVAI",
        "outputId": "0d002044-e787-4236-9010-4efca57656ad"
      },
      "outputs": [
        {
          "output_type": "error",
          "ename": "AttributeError",
          "evalue": "ignored",
          "traceback": [
            "\u001b[0;31m---------------------------------------------------------------------------\u001b[0m",
            "\u001b[0;31mAttributeError\u001b[0m                            Traceback (most recent call last)",
            "\u001b[0;32m<ipython-input-35-180ac79b5167>\u001b[0m in \u001b[0;36m<module>\u001b[0;34m()\u001b[0m\n\u001b[0;32m----> 1\u001b[0;31m \u001b[0mpyramid\u001b[0m\u001b[0;34m.\u001b[0m\u001b[0marea\u001b[0m\u001b[0;34m(\u001b[0m\u001b[0;34m)\u001b[0m\u001b[0;34m\u001b[0m\u001b[0;34m\u001b[0m\u001b[0m\n\u001b[0m",
            "\u001b[0;32m<ipython-input-32-1ef36212e55a>\u001b[0m in \u001b[0;36marea\u001b[0;34m(self)\u001b[0m\n\u001b[1;32m     20\u001b[0m \u001b[0;34m\u001b[0m\u001b[0m\n\u001b[1;32m     21\u001b[0m     \u001b[0;32mdef\u001b[0m \u001b[0marea\u001b[0m\u001b[0;34m(\u001b[0m\u001b[0mself\u001b[0m\u001b[0;34m)\u001b[0m\u001b[0;34m:\u001b[0m\u001b[0;34m\u001b[0m\u001b[0;34m\u001b[0m\u001b[0m\n\u001b[0;32m---> 22\u001b[0;31m         \u001b[0mbase_area\u001b[0m \u001b[0;34m=\u001b[0m \u001b[0msuper\u001b[0m\u001b[0;34m(\u001b[0m\u001b[0;34m)\u001b[0m\u001b[0;34m.\u001b[0m\u001b[0marea\u001b[0m\u001b[0;34m(\u001b[0m\u001b[0;34m)\u001b[0m \u001b[0;31m# comes from the `Triangle` class\u001b[0m\u001b[0;34m\u001b[0m\u001b[0;34m\u001b[0m\u001b[0m\n\u001b[0m\u001b[1;32m     23\u001b[0m         \u001b[0mperimeter\u001b[0m \u001b[0;34m=\u001b[0m \u001b[0msuper\u001b[0m\u001b[0;34m(\u001b[0m\u001b[0;34m)\u001b[0m\u001b[0;34m.\u001b[0m\u001b[0mperimeter\u001b[0m\u001b[0;34m(\u001b[0m\u001b[0;34m)\u001b[0m \u001b[0;31m# comes from the `Square` class\u001b[0m\u001b[0;34m\u001b[0m\u001b[0;34m\u001b[0m\u001b[0m\n\u001b[1;32m     24\u001b[0m         \u001b[0;32mreturn\u001b[0m \u001b[0;36m0.5\u001b[0m \u001b[0;34m*\u001b[0m \u001b[0mperimeter\u001b[0m \u001b[0;34m*\u001b[0m \u001b[0mself\u001b[0m\u001b[0;34m.\u001b[0m\u001b[0mslant_height\u001b[0m \u001b[0;34m+\u001b[0m \u001b[0mbase_area\u001b[0m\u001b[0;34m\u001b[0m\u001b[0;34m\u001b[0m\u001b[0m\n",
            "\u001b[0;32m<ipython-input-32-1ef36212e55a>\u001b[0m in \u001b[0;36marea\u001b[0;34m(self)\u001b[0m\n\u001b[1;32m      8\u001b[0m \u001b[0;34m\u001b[0m\u001b[0m\n\u001b[1;32m      9\u001b[0m     \u001b[0;32mdef\u001b[0m \u001b[0marea\u001b[0m\u001b[0;34m(\u001b[0m\u001b[0mself\u001b[0m\u001b[0;34m)\u001b[0m\u001b[0;34m:\u001b[0m\u001b[0;34m\u001b[0m\u001b[0;34m\u001b[0m\u001b[0m\n\u001b[0;32m---> 10\u001b[0;31m         \u001b[0;32mreturn\u001b[0m \u001b[0;36m0.5\u001b[0m \u001b[0;34m*\u001b[0m \u001b[0mself\u001b[0m\u001b[0;34m.\u001b[0m\u001b[0mbase\u001b[0m \u001b[0;34m*\u001b[0m \u001b[0mself\u001b[0m\u001b[0;34m.\u001b[0m\u001b[0mheight\u001b[0m\u001b[0;34m\u001b[0m\u001b[0;34m\u001b[0m\u001b[0m\n\u001b[0m\u001b[1;32m     11\u001b[0m \u001b[0;34m\u001b[0m\u001b[0m\n\u001b[1;32m     12\u001b[0m \u001b[0;34m\u001b[0m\u001b[0m\n",
            "\u001b[0;31mAttributeError\u001b[0m: 'RightPyramid' object has no attribute 'height'"
          ]
        }
      ],
      "source": [
        "pyramid.area() "
      ]
    },
    {
      "cell_type": "markdown",
      "metadata": {
        "hidden": true,
        "id": "L46lpzvfgVAI"
      },
      "source": [
        "We see that even though the `RightPyramid` class instantiates an object correctly, the call to the method `.area()`, raises and `AttributeError`! \n",
        "\n",
        "The problem is that, both the **superclasses** (`Triangle` and `Square`) define a `.area()` method. The demonstrated error occurs due to a concept known as **method resolution order (MRO)**."
      ]
    },
    {
      "cell_type": "markdown",
      "metadata": {
        "heading_collapsed": true,
        "hidden": true,
        "id": "XZRH-pHCgVAJ"
      },
      "source": [
        "### **6.2 The method resolution order (MRO)**"
      ]
    },
    {
      "cell_type": "markdown",
      "metadata": {
        "hidden": true,
        "id": "wiU6Ws1XgVAJ"
      },
      "source": [
        "The **method resolution order** (or, **MRO** in short) tells Python how to search for inherited methods. The **MRO** comes in handy when we're using the `super()` function because it tells us exactly where Python will look for a method that we're calling with the `super()` function, and in what order.\n",
        "\n",
        "Every class has an `.__mro__` attribute that allows us to inspect the **MRO** order. Let us look at this attribute for the `RightPyramid` class:"
      ]
    },
    {
      "cell_type": "code",
      "execution_count": null,
      "metadata": {
        "ExecuteTime": {
          "end_time": "2022-07-19T10:44:33.681440Z",
          "start_time": "2022-07-19T10:44:33.677512Z"
        },
        "hidden": true,
        "colab": {
          "base_uri": "https://localhost:8080/"
        },
        "id": "Vb8kgf5lgVAK",
        "outputId": "45aba76a-5a80-439b-b143-a0f5982080cd"
      },
      "outputs": [
        {
          "output_type": "stream",
          "name": "stdout",
          "text": [
            "<class '__main__.RightPyramid'> <class '__main__.Triangle'> <class '__main__.Square'> <class '__main__.Rectangle'> <class 'object'>\n"
          ]
        }
      ],
      "source": [
        "print(*RightPyramid.__mro__) # The leading `*` is for tuple unpacking"
      ]
    },
    {
      "cell_type": "markdown",
      "metadata": {
        "hidden": true,
        "id": "bIIhLCIPgVAK"
      },
      "source": [
        "The above information (more aptly, \"order\") tells us that methods will be searched first in the `Rightpyramid` class, then in the `Triangle` class, then in the `Square` class, then in the `Rectangle` class, and finally, if nothing is found, in the `object` class, from which all classes originate. "
      ]
    },
    {
      "cell_type": "markdown",
      "metadata": {
        "hidden": true,
        "id": "88ZoXObLgVAK"
      },
      "source": [
        "In the above `AttributeError` error, the interpreter first searches the `Triangle` class for a method called `.area()`, finds it, and calls it, instead of the one that is required. Because `Triangle.area()` expects there to be a `.height` attribute and a `.base` attribute, Python throws the `AttributeError`.\n",
        "\n",
        "Luckily, we can control to some extent, how the **MRO** is constructed. Just by changing the signature of the `RightPyramid` class (order of the **superclass** arguments), we can search in the order we want, and the methods will resolve correctly:"
      ]
    },
    {
      "cell_type": "code",
      "execution_count": null,
      "metadata": {
        "ExecuteTime": {
          "end_time": "2022-07-19T11:04:39.351130Z",
          "start_time": "2022-07-19T11:04:39.344437Z"
        },
        "hidden": true,
        "id": "katUXJj3gVAL"
      },
      "outputs": [],
      "source": [
        "class RightPyramid(Square, Triangle):\n",
        "\n",
        "\n",
        "    def __init__(self, base, slant_height):\n",
        "        self.base = base\n",
        "        self.slant_height = slant_height\n",
        "        super(Square, self).__init__(self.base, self.base)\n",
        "\n",
        "\n",
        "    def area(self):\n",
        "        # Now comes from the `Square` class\n",
        "        base_area = super().area() \n",
        "        # Also comes from the `Square` class\n",
        "        perimeter = super().perimeter() \n",
        "        return 0.5 * perimeter * self.slant_height + base_area"
      ]
    },
    {
      "cell_type": "code",
      "execution_count": null,
      "metadata": {
        "ExecuteTime": {
          "end_time": "2022-07-19T11:04:41.577139Z",
          "start_time": "2022-07-19T11:04:41.571365Z"
        },
        "hidden": true,
        "colab": {
          "base_uri": "https://localhost:8080/"
        },
        "id": "KOmm3Ye0gVAL",
        "outputId": "33528568-2651-4b4e-b614-cb495031c026"
      },
      "outputs": [
        {
          "output_type": "stream",
          "name": "stdout",
          "text": [
            "20.0\n"
          ]
        }
      ],
      "source": [
        "pyramid = RightPyramid(2, 4)\n",
        "print(pyramid.area())"
      ]
    },
    {
      "cell_type": "markdown",
      "metadata": {
        "hidden": true,
        "id": "pRyl0pyngVAM"
      },
      "source": [
        "If we now print the `.__mro__` attribute of the `RightPyramid` class, we see that the `Square` superclass preceeds the `Triangle` class! "
      ]
    },
    {
      "cell_type": "code",
      "execution_count": null,
      "metadata": {
        "ExecuteTime": {
          "end_time": "2022-07-19T11:04:44.125652Z",
          "start_time": "2022-07-19T11:04:44.119242Z"
        },
        "hidden": true,
        "colab": {
          "base_uri": "https://localhost:8080/"
        },
        "id": "PThZ_329gVAM",
        "outputId": "2a2c2cc4-1cd4-449a-baac-96da8fc300ea"
      },
      "outputs": [
        {
          "output_type": "stream",
          "name": "stdout",
          "text": [
            "<class '__main__.RightPyramid'> <class '__main__.Square'> <class '__main__.Rectangle'> <class '__main__.Triangle'> <class 'object'>\n"
          ]
        }
      ],
      "source": [
        "print(*RightPyramid.__mro__) # The leading `*` is for tuple unpacking"
      ]
    },
    {
      "cell_type": "markdown",
      "metadata": {
        "hidden": true,
        "id": "7w0lHtEWgVAN"
      },
      "source": [
        "Instead of changing the **MRO**, we can alternatively use the fact that the `super()` function accepts two arguments, namely, the **superclass** name from which the **subclass** inherits and the \"generic\" instance of the **superclass**, `self`. Let us see this approach below. "
      ]
    },
    {
      "cell_type": "code",
      "execution_count": null,
      "metadata": {
        "ExecuteTime": {
          "end_time": "2022-07-19T11:05:49.432047Z",
          "start_time": "2022-07-19T11:05:49.425095Z"
        },
        "hidden": true,
        "id": "7FePOBGlgVAN"
      },
      "outputs": [],
      "source": [
        "class RightPyramid(Triangle, Square):\n",
        "\n",
        "\n",
        "    def __init__(self, base, slant_height):\n",
        "        self.base = base\n",
        "        self.slant_height = slant_height\n",
        "        super(Square, self).__init__(self.base, self.base)\n",
        "\n",
        "\n",
        "    def area(self):\n",
        "        # Now comes from the `Square` class\n",
        "        base_area = super(Square, self).area() \n",
        "        # Also comes from the `Square` class\n",
        "        perimeter = super().perimeter() \n",
        "        return 0.5 * perimeter * self.slant_height + base_area"
      ]
    },
    {
      "cell_type": "code",
      "execution_count": null,
      "metadata": {
        "ExecuteTime": {
          "end_time": "2022-07-19T11:05:51.407757Z",
          "start_time": "2022-07-19T11:05:51.400783Z"
        },
        "hidden": true,
        "colab": {
          "base_uri": "https://localhost:8080/"
        },
        "id": "gB4JH1O8gVAN",
        "outputId": "8b5e3ce0-aea6-4f14-fa21-df42f3e24a74"
      },
      "outputs": [
        {
          "output_type": "stream",
          "name": "stdout",
          "text": [
            "20.0\n"
          ]
        }
      ],
      "source": [
        "pyramid = RightPyramid(2, 4)\n",
        "print(pyramid.area())"
      ]
    },
    {
      "cell_type": "markdown",
      "metadata": {
        "hidden": true,
        "id": "e1zB1WtxgVAO"
      },
      "source": [
        "If we now print the `.__mro__` attribute of the `RightPyramid` class, we see that the **MRO** is unchanged!"
      ]
    },
    {
      "cell_type": "code",
      "execution_count": null,
      "metadata": {
        "ExecuteTime": {
          "end_time": "2022-07-19T11:06:13.772769Z",
          "start_time": "2022-07-19T11:06:13.764805Z"
        },
        "hidden": true,
        "colab": {
          "base_uri": "https://localhost:8080/"
        },
        "id": "-FFB8bzigVAO",
        "outputId": "88aace3a-9cd1-418c-9b0f-626104b53723"
      },
      "outputs": [
        {
          "output_type": "stream",
          "name": "stdout",
          "text": [
            "<class '__main__.RightPyramid'> <class '__main__.Triangle'> <class '__main__.Square'> <class '__main__.Rectangle'> <class 'object'>\n"
          ]
        }
      ],
      "source": [
        "print(*RightPyramid.__mro__) # The leading `*` is for tuple unpacking"
      ]
    },
    {
      "cell_type": "markdown",
      "metadata": {
        "hidden": true,
        "id": "pw3gR8DzgVAP"
      },
      "source": [
        "**NOTE:** When we are using the `super()` function with multiple inheritance, we should always try to design our classes to **cooperate**. Part of this **cooperation** is to ensure that our methods have unique names or unique parameters, so that they get resolved in the **MRO**. \n",
        "\n",
        "As an example of the above \"design\" principle, we will rename the `Triangle` class’s `.area()` method to `.tri_area()`. In this way, the area methods can continue using class properties rather than taking external parameters, as shown below:"
      ]
    },
    {
      "cell_type": "code",
      "execution_count": null,
      "metadata": {
        "ExecuteTime": {
          "end_time": "2022-07-19T11:16:15.148983Z",
          "start_time": "2022-07-19T11:16:15.145081Z"
        },
        "hidden": true,
        "id": "bqfzyOeAgVAP"
      },
      "outputs": [],
      "source": [
        "class Triangle:\n",
        "    \n",
        "    \n",
        "    def __init__(self, base, height):\n",
        "        self.base = base\n",
        "        self.height = height\n",
        "\n",
        "    def tri_area(self):\n",
        "        return 0.5 * self.base * self.height"
      ]
    },
    {
      "cell_type": "code",
      "execution_count": null,
      "metadata": {
        "ExecuteTime": {
          "end_time": "2022-07-19T11:16:17.608039Z",
          "start_time": "2022-07-19T11:16:17.603910Z"
        },
        "hidden": true,
        "id": "beAQhduBgVAP"
      },
      "outputs": [],
      "source": [
        "class RightPyramid(Square, Triangle):\n",
        "    def __init__(self, base, slant_height):\n",
        "        self.base = base\n",
        "        self.slant_height = slant_height\n",
        "        super().__init__(self.base)\n",
        "\n",
        "    def area(self):\n",
        "        base_area = super().area()\n",
        "        perimeter = super().perimeter()\n",
        "        return 0.5 * perimeter * self.slant_height + base_area\n",
        "\n",
        "    def area_2(self):\n",
        "        base_area = super().area()\n",
        "        triangle_area = super().tri_area()\n",
        "        return triangle_area * 4 + base_area\n"
      ]
    },
    {
      "cell_type": "code",
      "execution_count": null,
      "metadata": {
        "ExecuteTime": {
          "end_time": "2022-07-19T11:16:19.798077Z",
          "start_time": "2022-07-19T11:16:19.777082Z"
        },
        "hidden": true,
        "colab": {
          "base_uri": "https://localhost:8080/",
          "height": 333
        },
        "id": "1PPF38rPgVAQ",
        "outputId": "a67d25f4-9f73-44a7-a386-0ef3c6a277df"
      },
      "outputs": [
        {
          "output_type": "error",
          "ename": "AttributeError",
          "evalue": "ignored",
          "traceback": [
            "\u001b[0;31m---------------------------------------------------------------------------\u001b[0m",
            "\u001b[0;31mAttributeError\u001b[0m                            Traceback (most recent call last)",
            "\u001b[0;32m<ipython-input-45-4336d44f155d>\u001b[0m in \u001b[0;36m<module>\u001b[0;34m()\u001b[0m\n\u001b[1;32m      1\u001b[0m \u001b[0mpyramid\u001b[0m \u001b[0;34m=\u001b[0m \u001b[0mRightPyramid\u001b[0m\u001b[0;34m(\u001b[0m\u001b[0;36m2\u001b[0m\u001b[0;34m,\u001b[0m \u001b[0;36m4\u001b[0m\u001b[0;34m)\u001b[0m\u001b[0;34m\u001b[0m\u001b[0;34m\u001b[0m\u001b[0m\n\u001b[0;32m----> 2\u001b[0;31m \u001b[0mprint\u001b[0m\u001b[0;34m(\u001b[0m\u001b[0mpyramid\u001b[0m\u001b[0;34m.\u001b[0m\u001b[0marea\u001b[0m\u001b[0;34m(\u001b[0m\u001b[0;34m)\u001b[0m\u001b[0;34m)\u001b[0m\u001b[0;34m\u001b[0m\u001b[0;34m\u001b[0m\u001b[0m\n\u001b[0m",
            "\u001b[0;32m<ipython-input-44-97832a05558f>\u001b[0m in \u001b[0;36marea\u001b[0;34m(self)\u001b[0m\n\u001b[1;32m      6\u001b[0m \u001b[0;34m\u001b[0m\u001b[0m\n\u001b[1;32m      7\u001b[0m     \u001b[0;32mdef\u001b[0m \u001b[0marea\u001b[0m\u001b[0;34m(\u001b[0m\u001b[0mself\u001b[0m\u001b[0;34m)\u001b[0m\u001b[0;34m:\u001b[0m\u001b[0;34m\u001b[0m\u001b[0;34m\u001b[0m\u001b[0m\n\u001b[0;32m----> 8\u001b[0;31m         \u001b[0mbase_area\u001b[0m \u001b[0;34m=\u001b[0m \u001b[0msuper\u001b[0m\u001b[0;34m(\u001b[0m\u001b[0;34m)\u001b[0m\u001b[0;34m.\u001b[0m\u001b[0marea\u001b[0m\u001b[0;34m(\u001b[0m\u001b[0;34m)\u001b[0m\u001b[0;34m\u001b[0m\u001b[0;34m\u001b[0m\u001b[0m\n\u001b[0m\u001b[1;32m      9\u001b[0m         \u001b[0mperimeter\u001b[0m \u001b[0;34m=\u001b[0m \u001b[0msuper\u001b[0m\u001b[0;34m(\u001b[0m\u001b[0;34m)\u001b[0m\u001b[0;34m.\u001b[0m\u001b[0mperimeter\u001b[0m\u001b[0;34m(\u001b[0m\u001b[0;34m)\u001b[0m\u001b[0;34m\u001b[0m\u001b[0;34m\u001b[0m\u001b[0m\n\u001b[1;32m     10\u001b[0m         \u001b[0;32mreturn\u001b[0m \u001b[0;36m0.5\u001b[0m \u001b[0;34m*\u001b[0m \u001b[0mperimeter\u001b[0m \u001b[0;34m*\u001b[0m \u001b[0mself\u001b[0m\u001b[0;34m.\u001b[0m\u001b[0mslant_height\u001b[0m \u001b[0;34m+\u001b[0m \u001b[0mbase_area\u001b[0m\u001b[0;34m\u001b[0m\u001b[0;34m\u001b[0m\u001b[0m\n",
            "\u001b[0;32m<ipython-input-30-561d613618db>\u001b[0m in \u001b[0;36marea\u001b[0;34m(self)\u001b[0m\n\u001b[1;32m      8\u001b[0m \u001b[0;34m\u001b[0m\u001b[0m\n\u001b[1;32m      9\u001b[0m     \u001b[0;32mdef\u001b[0m \u001b[0marea\u001b[0m\u001b[0;34m(\u001b[0m\u001b[0mself\u001b[0m\u001b[0;34m)\u001b[0m\u001b[0;34m:\u001b[0m\u001b[0;34m\u001b[0m\u001b[0;34m\u001b[0m\u001b[0m\n\u001b[0;32m---> 10\u001b[0;31m         \u001b[0;32mreturn\u001b[0m \u001b[0mself\u001b[0m\u001b[0;34m.\u001b[0m\u001b[0mlength\u001b[0m \u001b[0;34m*\u001b[0m \u001b[0mself\u001b[0m\u001b[0;34m.\u001b[0m\u001b[0mwidth\u001b[0m\u001b[0;34m\u001b[0m\u001b[0;34m\u001b[0m\u001b[0m\n\u001b[0m\u001b[1;32m     11\u001b[0m \u001b[0;34m\u001b[0m\u001b[0m\n\u001b[1;32m     12\u001b[0m \u001b[0;34m\u001b[0m\u001b[0m\n",
            "\u001b[0;31mAttributeError\u001b[0m: 'RightPyramid' object has no attribute 'length'"
          ]
        }
      ],
      "source": [
        "pyramid = RightPyramid(2, 4)\n",
        "print(pyramid.area())"
      ]
    },
    {
      "cell_type": "markdown",
      "metadata": {
        "hidden": true,
        "id": "Fkb01WGUgVAQ"
      },
      "source": [
        "We again receive a `AttributeError`!! The reason for this error is, the code doesn't have a delegated `Triangle` object like it does for a `Square object`, so calling `.area_2()` method will give us an `AttributeError` since `.base` attribute and `.height` attribute don't have any values. To fix this, we need to do the following two things:\n",
        "\n",
        "* All methods that are called with the `super()` function need to have a call to their **superclass**'s version of that method. This means that we will need to add `super().__init__()` to the `.__init__()` methods of the `Triangle` class and the `Rectangle` class.\n",
        "\n",
        "* Redesign all the `.__init__()` calls to take a keyword dictionary. \n",
        "\n",
        "Let us see the complete code below."
      ]
    },
    {
      "cell_type": "code",
      "execution_count": null,
      "metadata": {
        "ExecuteTime": {
          "end_time": "2022-07-19T11:21:12.445288Z",
          "start_time": "2022-07-19T11:21:12.432424Z"
        },
        "hidden": true,
        "id": "g1U8wNLCgVAQ"
      },
      "outputs": [],
      "source": [
        "class Rectangle:\n",
        "    \n",
        "    \n",
        "    def __init__(self, length, width, **kwargs):\n",
        "        self.length = length\n",
        "        self.width = width\n",
        "        super().__init__(**kwargs)\n",
        "\n",
        "    \n",
        "    def area(self):\n",
        "        return self.length * self.width\n",
        "\n",
        "    \n",
        "    def perimeter(self):\n",
        "        return 2 * self.length + 2 * self.width\n",
        "\n",
        "\n",
        "# Here we declare that the Square class inherits from \n",
        "# the Rectangle class\n",
        "\n",
        "class Square(Rectangle):\n",
        "    \n",
        "    \n",
        "    def __init__(self, length, **kwargs):\n",
        "        super().__init__(length=length, width=length, **kwargs)\n",
        "\n",
        "\n",
        "class Cube(Square):\n",
        "\n",
        "    \n",
        "    def surface_area(self):\n",
        "        face_area = super().area()\n",
        "        return face_area * 6\n",
        "\n",
        "    \n",
        "    def volume(self):\n",
        "        face_area = super().area()\n",
        "        return face_area * self.length\n",
        "\n",
        "    \n",
        "class Triangle:\n",
        "    \n",
        "    \n",
        "    def __init__(self, base, height, **kwargs):\n",
        "        self.base = base\n",
        "        self.height = height\n",
        "        super().__init__(**kwargs)\n",
        "\n",
        "    def tri_area(self):\n",
        "        return 0.5 * self.base * self.height\n",
        "\n",
        "    \n",
        "class RightPyramid(Square, Triangle):\n",
        "\n",
        "    \n",
        "    def __init__(self, base, slant_height, **kwargs):\n",
        "        self.base = base\n",
        "        self.slant_height = slant_height\n",
        "        kwargs[\"height\"] = slant_height\n",
        "        kwargs[\"length\"] = base\n",
        "        super().__init__(base=base, **kwargs)\n",
        "\n",
        "        \n",
        "    def area(self):\n",
        "        base_area = super().area()\n",
        "        perimeter = super().perimeter()\n",
        "        return 0.5 * perimeter * self.slant_height + base_area\n",
        "\n",
        "    \n",
        "    def area_2(self):\n",
        "        base_area = super().area()\n",
        "        triangle_area = super().tri_area()\n",
        "        return triangle_area * 4 + base_area"
      ]
    },
    {
      "cell_type": "code",
      "execution_count": null,
      "metadata": {
        "ExecuteTime": {
          "end_time": "2022-07-19T11:22:16.189374Z",
          "start_time": "2022-07-19T11:22:16.183464Z"
        },
        "hidden": true,
        "colab": {
          "base_uri": "https://localhost:8080/"
        },
        "id": "1ayENX7dgVAT",
        "outputId": "186c5943-ce91-4a6c-ab49-79a1448d4802"
      },
      "outputs": [
        {
          "output_type": "stream",
          "name": "stdout",
          "text": [
            "20.0\n",
            "20.0\n"
          ]
        }
      ],
      "source": [
        "pyramid = RightPyramid(base=2, slant_height=4)\n",
        "print(pyramid.area())\n",
        "print(pyramid.area_2())"
      ]
    },
    {
      "cell_type": "markdown",
      "metadata": {
        "hidden": true,
        "id": "iGiaMUGLgVAW"
      },
      "source": [
        "<b>There are a number of important differences in the complete code shown above:</b>\n",
        "\n",
        "<p>\n",
        "<ul>\n",
        "    <li><b><a href=\"https://realpython.com/python-kwargs-and-args/\"><code>**kwargs</code></a> is modified in some places such as <code>RightPyramid.__init__()</code>:</b> This will allow users of these objects to instantiate them only with the arguments that make sense for that particular object.</li><br>\n",
        "    <li><b>Setting up named arguments before <code>**kwargs</code>:</b> We can see this in <code>RightPyramid.__init__()</code>. This has the neat effect of popping that key right out of the <code>**kwargs</code> dictionary, so that by the time it ends up at the end of the <b>MRO</b> in the object class, <code>**kwargs</code> is empty.\n",
        "</ul>\n",
        "</p>"
      ]
    },
    {
      "cell_type": "markdown",
      "metadata": {
        "hidden": true,
        "id": "fPVeoK8GgVAX"
      },
      "source": [
        "**Note:** Following the state of `kwargs` can be tricky here, so here's a table of `.__init__()` calls in order, showing the class that owns that call, and the contents of `kwargs` during that call:\n",
        "\n",
        "| **Class** | **Named Arguments** | **kwargs** |\n",
        "| :---: | :---: | :---: |\n",
        "| RightPyramid | base, slant_height | | \t\n",
        "| Square | length | base, height |\n",
        "| Rectangle | length, width | base, height |\n",
        "| Triangle | base`, height | | \t"
      ]
    },
    {
      "cell_type": "markdown",
      "metadata": {
        "heading_collapsed": true,
        "hidden": true,
        "id": "rSDqBScjgVAY"
      },
      "source": [
        "### **6.3 Multiple inheritance alternatives**"
      ]
    },
    {
      "cell_type": "markdown",
      "metadata": {
        "hidden": true,
        "id": "Em2h6dKUgVAZ"
      },
      "source": [
        "Multiple inheritance can be useful but also lead to very complicated situations as we saw in the previous section. It is also rare to have objects that neatly inherit everything from more than multiple other objects. Instead of using multiple inheritance, we can achieve the same OOP result in a much cleaner and easier to understand way using **[composition](https://realpython.com/inheritance-composition-python/)**.\n",
        "\n",
        "**[Composition](https://realpython.com/inheritance-composition-python/)** is a OOP technique that can help us get around the complexity of multiple inheritance, while still providing many of its benefits. This technique is in the form of a specialized, simple class called a **mixin**. \n",
        "\n",
        "A **mixin** works as a kind of inheritance, but instead of defining an \"is-a\" relationship, it may be more accurate to say that it defines an \"includes-a\" relationship. With a **mixin** we can write a behavior that can be directly included in any number of other classes."
      ]
    },
    {
      "cell_type": "markdown",
      "metadata": {
        "hidden": true,
        "id": "2cpZ0WCegVAZ"
      },
      "source": [
        "Below, we will see a short example of the **mixin** class. Here, the **mixin** class (called `VolumeMixin`) is used by the `Cube` class, thereby providing the `Cube` class the ability to calculate its volume, as shown below:"
      ]
    },
    {
      "cell_type": "code",
      "execution_count": null,
      "metadata": {
        "ExecuteTime": {
          "end_time": "2022-07-19T12:41:18.425598Z",
          "start_time": "2022-07-19T12:41:18.419847Z"
        },
        "hidden": true,
        "id": "-ayQJYSEgVAZ"
      },
      "outputs": [],
      "source": [
        "class Rectangle:\n",
        "\n",
        "    \n",
        "    def __init__(self, length, width):\n",
        "        self.length = length\n",
        "        self.width = width\n",
        "\n",
        "    \n",
        "    def area(self):\n",
        "        return self.length * self.width\n",
        "\n",
        "\n",
        "class Square(Rectangle):\n",
        "\n",
        "    \n",
        "    def __init__(self, length):\n",
        "        super().__init__(length, length)\n",
        "\n",
        "        \n",
        "class VolumeMixin:\n",
        "    \n",
        "    \n",
        "    def volume(self):\n",
        "        return self.area() * self.height\n",
        "\n",
        "\n",
        "class Cube(VolumeMixin, Square):\n",
        "\n",
        "    \n",
        "    def __init__(self, length):\n",
        "        super().__init__(length)\n",
        "        self.height = length\n",
        "\n",
        "\n",
        "    def face_area(self):\n",
        "        return super().area()\n",
        "\n",
        "    \n",
        "    def surface_area(self):\n",
        "        return super().area() * 6"
      ]
    },
    {
      "cell_type": "code",
      "execution_count": null,
      "metadata": {
        "ExecuteTime": {
          "end_time": "2022-07-19T12:44:38.946201Z",
          "start_time": "2022-07-19T12:44:38.936587Z"
        },
        "hidden": true,
        "colab": {
          "base_uri": "https://localhost:8080/"
        },
        "id": "OmM3zk6IgVAa",
        "outputId": "ac9cc8c1-fc85-4f78-ca08-07a620e911c3"
      },
      "outputs": [
        {
          "output_type": "stream",
          "name": "stdout",
          "text": [
            "24\n",
            "8\n",
            "<class '__main__.Cube'> <class '__main__.VolumeMixin'> <class '__main__.Square'> <class '__main__.Rectangle'> <class 'object'>\n"
          ]
        }
      ],
      "source": [
        "cube = Cube(2)\n",
        "print(cube.surface_area())\n",
        "print(cube.volume())\n",
        "print(*Cube.__mro__)"
      ]
    },
    {
      "cell_type": "markdown",
      "metadata": {
        "hidden": true,
        "id": "6iQ-p3dmgVAa"
      },
      "source": [
        "This **mixin** can be used the same way in any other class that has an area defined for it and for which the formula `area * height` returns the correct `volume`."
      ]
    },
    {
      "cell_type": "markdown",
      "metadata": {
        "heading_collapsed": true,
        "id": "MQ43A60K-ziX"
      },
      "source": [
        "## **<a name=\"7\">Section-7: Wrap up</a>**"
      ]
    },
    {
      "cell_type": "markdown",
      "metadata": {
        "hidden": true,
        "id": "wTpBP7ZoEJsg"
      },
      "source": [
        "* In this tutorial we have learned how to supercharge our classes with the `super()` function, for both single and multiple class inheritances. \n",
        "\n",
        "* Our journey started with a review of single class inheritance and the use of the `super()` function to invoke the methods of the **superclass** including the **constructor** method, `.__init__()`. \n",
        "\n",
        "* We then moved onto how multiple class inheritance works in Python, and techniques to combine the `super()` function with multiple class inheritance. \n",
        "\n",
        "* We also learned about how Python resolves method calls using the **method resolution order** (**MRO**), as well as how to inspect and modify the **MRO** to ensure appropriate methods are called at appropriate times. "
      ]
    },
    {
      "cell_type": "markdown",
      "metadata": {
        "hidden": true,
        "id": "mBPXtDsxUvvk"
      },
      "source": [
        "For more information about object-oriented programming in Python and the `super()` function, follow the resources given below:\n",
        "* [Official super() documentation](https://docs.python.org/3/library/functions.html#super)\n",
        "* [Python’s super() Considered Super by Raymond Hettinger](https://rhettinger.wordpress.com/2011/05/26/super-considered-super/)\n",
        "* [Object-Oriented Programming in Python 3](https://realpython.com/python3-object-oriented-programming/)\n"
      ]
    },
    {
      "cell_type": "code",
      "execution_count": null,
      "metadata": {
        "hidden": true,
        "id": "PZK4jWoPVJsz"
      },
      "outputs": [],
      "source": [
        ""
      ]
    }
  ],
  "metadata": {
    "colab": {
      "collapsed_sections": [
        "5BR6y2L59UL6",
        "Yhpleomzwg_p",
        "jZ-NrYi7fe09",
        "SCwIS74i11fB",
        "3TE1FcG3wOgI",
        "k-YIwqsk2Xyj",
        "qYLLqqqp2X6U",
        "tf70Vu39hcIF",
        "atyq1OeLsd-m",
        "1dypXPZO0Kdq",
        "gBDBAqpV43fY",
        "gSYLh7i43mRp",
        "1UksN97F3mVC",
        "XZRH-pHCgVAJ",
        "rSDqBScjgVAY",
        "MQ43A60K-ziX"
      ],
      "name": "Class_Inheritance_with_super_function.ipynb",
      "provenance": [],
      "include_colab_link": true
    },
    "kernelspec": {
      "display_name": "Python 3 (ipykernel)",
      "language": "python",
      "name": "python3"
    },
    "language_info": {
      "codemirror_mode": {
        "name": "ipython",
        "version": 3
      },
      "file_extension": ".py",
      "mimetype": "text/x-python",
      "name": "python",
      "nbconvert_exporter": "python",
      "pygments_lexer": "ipython3",
      "version": "3.9.12"
    },
    "latex_envs": {
      "LaTeX_envs_menu_present": true,
      "autoclose": false,
      "autocomplete": true,
      "bibliofile": "biblio.bib",
      "cite_by": "apalike",
      "current_citInitial": 1,
      "eqLabelWithNumbers": true,
      "eqNumInitial": 1,
      "hotkeys": {
        "equation": "Ctrl-E",
        "itemize": "Ctrl-I"
      },
      "labels_anchors": false,
      "latex_user_defs": false,
      "report_style_numbering": false,
      "user_envs_cfg": false
    }
  },
  "nbformat": 4,
  "nbformat_minor": 0
}