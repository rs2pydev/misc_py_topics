{
  "cells": [
    {
      "cell_type": "markdown",
      "metadata": {
        "id": "view-in-github",
        "colab_type": "text"
      },
      "source": [
        "<a href=\"https://colab.research.google.com/github/rs2pydev/pythonic_topics/blob/main/Annotated_Tutorial__NominalEncoding_ColumnTransformer_Pipeline.ipynb\" target=\"_parent\"><img src=\"https://colab.research.google.com/assets/colab-badge.svg\" alt=\"Open In Colab\"/></a>"
      ]
    },
    {
      "cell_type": "markdown",
      "metadata": {
        "id": "8UBag78GFdJa"
      },
      "source": [
        "<h1><center><b>Annotated tutorial on using the Scikit-Learn library for data preprocessing: Encoding categorical features and building pipelines</b></center>"
      ]
    },
    {
      "cell_type": "markdown",
      "source": [
        "## **Table of Contents**"
      ],
      "metadata": {
        "id": "YTRzv4C35JaM"
      }
    },
    {
      "cell_type": "markdown",
      "source": [
        "1. **[Section-1: Tutorial overview](#1)**\n",
        "2. **[Section-2: Imports and other associated operations](#2)**\n",
        "3. **[Section-3: Load and prepare a data set](#3)**\n",
        "4. **[Section-4: Cross validating a simple model](#4)**\n",
        "5. **[Section-5: Encoding categorical features and setting up a pipeline](#5)**"
      ],
      "metadata": {
        "id": "xD1Ftqbt5Jds"
      }
    },
    {
      "cell_type": "markdown",
      "metadata": {
        "heading_collapsed": true,
        "id": "cBzIVYcrGZ6l"
      },
      "source": [
        "## **<a name=\"1\">Section-1: Tutorial overview</a>**"
      ]
    },
    {
      "cell_type": "markdown",
      "metadata": {
        "hidden": true,
        "id": "-oDbFE3sGRWz"
      },
      "source": [
        "To include preprocess data for building, training, and deploying a machine learning model, we need to preprocess the data. One such data preprocessing step is encoding categorical features (text data) numerically.\n",
        "\n",
        "Here, in this tutorial, we'll learn the following: \n",
        "\n",
        "* First we'll learn how to use the `OneHotEncoder` and `ColumnTransformer` functions of the Scikit-Learn library to encode categorical features and prepare the feature matrix in a single step, respectively.\n",
        "\n",
        "* Then we'll learn how to include these steps within a Scikit-Learn `Pipeline` so that we can cross-validate our model and our preprocessing steps, simultaneously. \n",
        "\n",
        "* Finally, we'll learn why we should use the Scikit-Learn library, rather than the Pandas library, for data preprocessing."
      ]
    },
    {
      "cell_type": "markdown",
      "metadata": {
        "hidden": true,
        "id": "uBakGO4pGTtT"
      },
      "source": [
        "This tutorial is based on the following vidoes from the [Data School's](https://www.youtube.com/dataschool) YouTube channel:\n",
        "\n",
        "* [How do I encode categorical features using scikit-learn?](https://www.youtube.com/watch?v=irHhDMbw3xo)\n",
        "\n",
        "* [Encode categorical features using `OneHotEncoder` or `OrdinalEncoder`](https://www.youtube.com/watch?v=0w78CHM_ubM&list=PL5-da3qGB5ID7YYAqireYEew2mWVvgmj6&index=6)\n",
        "\n",
        "* [Seven ways to select columns using ColumnTransformer](https://www.youtube.com/watch?v=sCt4LVD5hPc&list=PL5-da3qGB5ID7YYAqireYEew2mWVvgmj6&index=3&t=155s)"
      ]
    },
    {
      "cell_type": "markdown",
      "metadata": {
        "heading_collapsed": true,
        "id": "uuSedACcJ3Gp"
      },
      "source": [
        "## **<a name=\"2\">Section-2: Imports and other associated operations</a>**"
      ]
    },
    {
      "cell_type": "code",
      "execution_count": 33,
      "metadata": {
        "ExecuteTime": {
          "end_time": "2022-07-20T12:38:28.436545Z",
          "start_time": "2022-07-20T12:38:27.354205Z"
        },
        "hidden": true,
        "id": "OYHjkHtYKEKL"
      },
      "outputs": [],
      "source": [
        "import pandas as pd\n",
        "import sklearn as skl"
      ]
    },
    {
      "cell_type": "code",
      "execution_count": 34,
      "metadata": {
        "ExecuteTime": {
          "end_time": "2022-07-20T12:38:30.032157Z",
          "start_time": "2022-07-20T12:38:30.024728Z"
        },
        "colab": {
          "base_uri": "https://localhost:8080/"
        },
        "hidden": true,
        "id": "_bEm3uT4Kdij",
        "outputId": "7f921c30-fbfe-4f62-f399-f575be10f294"
      },
      "outputs": [
        {
          "output_type": "stream",
          "name": "stdout",
          "text": [
            "pandas version: 1.3.5\n",
            "sklearn version: 1.0.2\n"
          ]
        }
      ],
      "source": [
        "print(f'pandas version: {pd.__version__:s}')\n",
        "print(f'sklearn version: {skl.__version__:s}')"
      ]
    },
    {
      "cell_type": "code",
      "execution_count": 35,
      "metadata": {
        "ExecuteTime": {
          "end_time": "2022-07-20T12:38:33.160428Z",
          "start_time": "2022-07-20T12:38:32.421075Z"
        },
        "hidden": true,
        "id": "b9c_uAkgKdkj"
      },
      "outputs": [],
      "source": [
        "from sklearn.linear_model import LogisticRegression\n",
        "from sklearn.model_selection import cross_val_score\n",
        "from sklearn.preprocessing import OneHotEncoder\n",
        "from sklearn.compose import make_column_transformer, make_column_selector\n",
        "from sklearn.pipeline import make_pipeline"
      ]
    },
    {
      "cell_type": "markdown",
      "metadata": {
        "heading_collapsed": true,
        "id": "ugig1yozKdmf"
      },
      "source": [
        "## **<a name=\"3\">Section-3: Load and prepare a data set</a>**"
      ]
    },
    {
      "cell_type": "code",
      "execution_count": 36,
      "metadata": {
        "ExecuteTime": {
          "end_time": "2022-07-20T12:38:38.964375Z",
          "start_time": "2022-07-20T12:38:35.743779Z"
        },
        "hidden": true,
        "id": "gZZ0BPdfKdqF"
      },
      "outputs": [],
      "source": [
        "# Titanic - Train data set\n",
        "df_train = pd.read_csv('http://bit.ly/kaggletrain')"
      ]
    },
    {
      "cell_type": "code",
      "execution_count": 37,
      "metadata": {
        "ExecuteTime": {
          "end_time": "2022-07-20T12:38:40.791651Z",
          "start_time": "2022-07-20T12:38:38.966610Z"
        },
        "hidden": true,
        "id": "jylQGm81LMGC"
      },
      "outputs": [],
      "source": [
        "# Titanic - Test data set\n",
        "df_test = pd.read_csv('http://bit.ly/kaggletest')"
      ]
    },
    {
      "cell_type": "code",
      "execution_count": 38,
      "metadata": {
        "ExecuteTime": {
          "end_time": "2022-07-20T12:38:40.799140Z",
          "start_time": "2022-07-20T12:38:40.794499Z"
        },
        "colab": {
          "base_uri": "https://localhost:8080/"
        },
        "hidden": true,
        "id": "pJ-fDFLQLPvn",
        "outputId": "a95230cb-1fac-4e00-c1a9-f3999b4908c9"
      },
      "outputs": [
        {
          "output_type": "stream",
          "name": "stdout",
          "text": [
            "Shape - Train data set: (891, 12)\n",
            "\n",
            "Shape - Test data set: (418, 11)\n",
            "\n"
          ]
        }
      ],
      "source": [
        "print(f'Shape - Train data set: {df_train.shape}\\n')\n",
        "print(f'Shape - Test data set: {df_test.shape}\\n')"
      ]
    },
    {
      "cell_type": "markdown",
      "metadata": {
        "hidden": true,
        "id": "7zVcnHhJL4c-"
      },
      "source": [
        "In this tutorial we will be working with only the train data set!"
      ]
    },
    {
      "cell_type": "code",
      "execution_count": 39,
      "metadata": {
        "ExecuteTime": {
          "end_time": "2022-07-20T12:38:58.747046Z",
          "start_time": "2022-07-20T12:38:58.740507Z"
        },
        "hidden": true,
        "id": "5_OSBg9uL4fH"
      },
      "outputs": [],
      "source": [
        "df = df_train.copy(deep=True)"
      ]
    },
    {
      "cell_type": "code",
      "execution_count": 40,
      "metadata": {
        "ExecuteTime": {
          "end_time": "2022-07-20T12:39:00.071788Z",
          "start_time": "2022-07-20T12:39:00.068063Z"
        },
        "hidden": true,
        "id": "W4xoDaGMMo47"
      },
      "outputs": [],
      "source": [
        "def draw_line():\n",
        "    return print('****' * 20)"
      ]
    },
    {
      "cell_type": "code",
      "execution_count": 41,
      "metadata": {
        "ExecuteTime": {
          "end_time": "2022-07-20T12:39:02.111597Z",
          "start_time": "2022-07-20T12:39:02.107364Z"
        },
        "colab": {
          "base_uri": "https://localhost:8080/"
        },
        "hidden": true,
        "id": "fttHgJMsL4hZ",
        "outputId": "c6a4a738-2740-4ca8-f997-5c007bdd386e"
      },
      "outputs": [
        {
          "output_type": "stream",
          "name": "stdout",
          "text": [
            "********************************************************************************\n",
            "Columns:\n",
            "********************************************************************************\n",
            "PassengerId, Survived, Pclass, Name, Sex, Age, SibSp, Parch, Ticket, Fare, Cabin, Embarked\n"
          ]
        }
      ],
      "source": [
        "cols = df.columns.to_list()\n",
        "\n",
        "draw_line()\n",
        "print('Columns:')\n",
        "draw_line()\n",
        "print(*cols, sep=\", \", end=\"\\n\")"
      ]
    },
    {
      "cell_type": "code",
      "execution_count": 42,
      "metadata": {
        "ExecuteTime": {
          "end_time": "2022-07-20T12:39:03.473990Z",
          "start_time": "2022-07-20T12:39:03.463053Z"
        },
        "colab": {
          "base_uri": "https://localhost:8080/"
        },
        "hidden": true,
        "id": "5sc09MtIL4k3",
        "outputId": "b2f7b1cc-97ee-4e30-93a9-946315677433"
      },
      "outputs": [
        {
          "output_type": "stream",
          "name": "stdout",
          "text": [
            "********************************************************************************\n",
            "Null values:\n",
            "********************************************************************************\n",
            "PassengerId      0\n",
            "Survived         0\n",
            "Pclass           0\n",
            "Name             0\n",
            "Sex              0\n",
            "Age            177\n",
            "SibSp            0\n",
            "Parch            0\n",
            "Ticket           0\n",
            "Fare             0\n",
            "Cabin          687\n",
            "Embarked         2\n",
            "dtype: int64\n"
          ]
        }
      ],
      "source": [
        "draw_line()\n",
        "print('Null values:')\n",
        "draw_line()\n",
        "print(df.isna().sum())"
      ]
    },
    {
      "cell_type": "code",
      "execution_count": 43,
      "metadata": {
        "ExecuteTime": {
          "end_time": "2022-07-20T12:39:07.778639Z",
          "start_time": "2022-07-20T12:39:07.762558Z"
        },
        "hidden": true,
        "id": "zwDjO5tqMTVE"
      },
      "outputs": [],
      "source": [
        "# For this tutorial we will select 4 columns\n",
        "select_cols = ['Survived', 'Pclass', 'Sex', 'Embarked']\n",
        "\n",
        "df = df.loc[df.Embarked.notna(), select_cols] # Drop null values in `Embarked` "
      ]
    },
    {
      "cell_type": "code",
      "execution_count": 44,
      "metadata": {
        "ExecuteTime": {
          "end_time": "2022-07-20T12:39:09.438501Z",
          "start_time": "2022-07-20T12:39:09.432089Z"
        },
        "colab": {
          "base_uri": "https://localhost:8080/"
        },
        "hidden": true,
        "id": "Oq5CDBO1MTXO",
        "outputId": "40e7f692-0363-47bd-8697-2de5a55724d8"
      },
      "outputs": [
        {
          "output_type": "stream",
          "name": "stdout",
          "text": [
            "Shape - New dataframe: (889, 4)\n"
          ]
        }
      ],
      "source": [
        "print(f'Shape - New dataframe: {df.shape}')"
      ]
    },
    {
      "cell_type": "code",
      "execution_count": 45,
      "metadata": {
        "ExecuteTime": {
          "end_time": "2022-07-20T12:39:12.396928Z",
          "start_time": "2022-07-20T12:39:12.384201Z"
        },
        "colab": {
          "base_uri": "https://localhost:8080/",
          "height": 206
        },
        "hidden": true,
        "id": "pvMTv949MTZp",
        "outputId": "27cff580-305d-4313-d4b0-96232ddc4607"
      },
      "outputs": [
        {
          "output_type": "execute_result",
          "data": {
            "text/plain": [
              "   Survived  Pclass     Sex Embarked\n",
              "0         0       3    male        S\n",
              "1         1       1  female        C\n",
              "2         1       3  female        S\n",
              "3         1       1  female        S\n",
              "4         0       3    male        S"
            ],
            "text/html": [
              "\n",
              "  <div id=\"df-6b63d2e3-c605-4961-9c84-139a64b2823b\">\n",
              "    <div class=\"colab-df-container\">\n",
              "      <div>\n",
              "<style scoped>\n",
              "    .dataframe tbody tr th:only-of-type {\n",
              "        vertical-align: middle;\n",
              "    }\n",
              "\n",
              "    .dataframe tbody tr th {\n",
              "        vertical-align: top;\n",
              "    }\n",
              "\n",
              "    .dataframe thead th {\n",
              "        text-align: right;\n",
              "    }\n",
              "</style>\n",
              "<table border=\"1\" class=\"dataframe\">\n",
              "  <thead>\n",
              "    <tr style=\"text-align: right;\">\n",
              "      <th></th>\n",
              "      <th>Survived</th>\n",
              "      <th>Pclass</th>\n",
              "      <th>Sex</th>\n",
              "      <th>Embarked</th>\n",
              "    </tr>\n",
              "  </thead>\n",
              "  <tbody>\n",
              "    <tr>\n",
              "      <th>0</th>\n",
              "      <td>0</td>\n",
              "      <td>3</td>\n",
              "      <td>male</td>\n",
              "      <td>S</td>\n",
              "    </tr>\n",
              "    <tr>\n",
              "      <th>1</th>\n",
              "      <td>1</td>\n",
              "      <td>1</td>\n",
              "      <td>female</td>\n",
              "      <td>C</td>\n",
              "    </tr>\n",
              "    <tr>\n",
              "      <th>2</th>\n",
              "      <td>1</td>\n",
              "      <td>3</td>\n",
              "      <td>female</td>\n",
              "      <td>S</td>\n",
              "    </tr>\n",
              "    <tr>\n",
              "      <th>3</th>\n",
              "      <td>1</td>\n",
              "      <td>1</td>\n",
              "      <td>female</td>\n",
              "      <td>S</td>\n",
              "    </tr>\n",
              "    <tr>\n",
              "      <th>4</th>\n",
              "      <td>0</td>\n",
              "      <td>3</td>\n",
              "      <td>male</td>\n",
              "      <td>S</td>\n",
              "    </tr>\n",
              "  </tbody>\n",
              "</table>\n",
              "</div>\n",
              "      <button class=\"colab-df-convert\" onclick=\"convertToInteractive('df-6b63d2e3-c605-4961-9c84-139a64b2823b')\"\n",
              "              title=\"Convert this dataframe to an interactive table.\"\n",
              "              style=\"display:none;\">\n",
              "        \n",
              "  <svg xmlns=\"http://www.w3.org/2000/svg\" height=\"24px\"viewBox=\"0 0 24 24\"\n",
              "       width=\"24px\">\n",
              "    <path d=\"M0 0h24v24H0V0z\" fill=\"none\"/>\n",
              "    <path d=\"M18.56 5.44l.94 2.06.94-2.06 2.06-.94-2.06-.94-.94-2.06-.94 2.06-2.06.94zm-11 1L8.5 8.5l.94-2.06 2.06-.94-2.06-.94L8.5 2.5l-.94 2.06-2.06.94zm10 10l.94 2.06.94-2.06 2.06-.94-2.06-.94-.94-2.06-.94 2.06-2.06.94z\"/><path d=\"M17.41 7.96l-1.37-1.37c-.4-.4-.92-.59-1.43-.59-.52 0-1.04.2-1.43.59L10.3 9.45l-7.72 7.72c-.78.78-.78 2.05 0 2.83L4 21.41c.39.39.9.59 1.41.59.51 0 1.02-.2 1.41-.59l7.78-7.78 2.81-2.81c.8-.78.8-2.07 0-2.86zM5.41 20L4 18.59l7.72-7.72 1.47 1.35L5.41 20z\"/>\n",
              "  </svg>\n",
              "      </button>\n",
              "      \n",
              "  <style>\n",
              "    .colab-df-container {\n",
              "      display:flex;\n",
              "      flex-wrap:wrap;\n",
              "      gap: 12px;\n",
              "    }\n",
              "\n",
              "    .colab-df-convert {\n",
              "      background-color: #E8F0FE;\n",
              "      border: none;\n",
              "      border-radius: 50%;\n",
              "      cursor: pointer;\n",
              "      display: none;\n",
              "      fill: #1967D2;\n",
              "      height: 32px;\n",
              "      padding: 0 0 0 0;\n",
              "      width: 32px;\n",
              "    }\n",
              "\n",
              "    .colab-df-convert:hover {\n",
              "      background-color: #E2EBFA;\n",
              "      box-shadow: 0px 1px 2px rgba(60, 64, 67, 0.3), 0px 1px 3px 1px rgba(60, 64, 67, 0.15);\n",
              "      fill: #174EA6;\n",
              "    }\n",
              "\n",
              "    [theme=dark] .colab-df-convert {\n",
              "      background-color: #3B4455;\n",
              "      fill: #D2E3FC;\n",
              "    }\n",
              "\n",
              "    [theme=dark] .colab-df-convert:hover {\n",
              "      background-color: #434B5C;\n",
              "      box-shadow: 0px 1px 3px 1px rgba(0, 0, 0, 0.15);\n",
              "      filter: drop-shadow(0px 1px 2px rgba(0, 0, 0, 0.3));\n",
              "      fill: #FFFFFF;\n",
              "    }\n",
              "  </style>\n",
              "\n",
              "      <script>\n",
              "        const buttonEl =\n",
              "          document.querySelector('#df-6b63d2e3-c605-4961-9c84-139a64b2823b button.colab-df-convert');\n",
              "        buttonEl.style.display =\n",
              "          google.colab.kernel.accessAllowed ? 'block' : 'none';\n",
              "\n",
              "        async function convertToInteractive(key) {\n",
              "          const element = document.querySelector('#df-6b63d2e3-c605-4961-9c84-139a64b2823b');\n",
              "          const dataTable =\n",
              "            await google.colab.kernel.invokeFunction('convertToInteractive',\n",
              "                                                     [key], {});\n",
              "          if (!dataTable) return;\n",
              "\n",
              "          const docLinkHtml = 'Like what you see? Visit the ' +\n",
              "            '<a target=\"_blank\" href=https://colab.research.google.com/notebooks/data_table.ipynb>data table notebook</a>'\n",
              "            + ' to learn more about interactive tables.';\n",
              "          element.innerHTML = '';\n",
              "          dataTable['output_type'] = 'display_data';\n",
              "          await google.colab.output.renderOutput(dataTable, element);\n",
              "          const docLink = document.createElement('div');\n",
              "          docLink.innerHTML = docLinkHtml;\n",
              "          element.appendChild(docLink);\n",
              "        }\n",
              "      </script>\n",
              "    </div>\n",
              "  </div>\n",
              "  "
            ]
          },
          "metadata": {},
          "execution_count": 45
        }
      ],
      "source": [
        "df.head()"
      ]
    },
    {
      "cell_type": "markdown",
      "metadata": {
        "heading_collapsed": true,
        "id": "Ui0-m-__MTbo"
      },
      "source": [
        "## **<a name=\"4\">Section-4: Cross-validating a simple model</a>**"
      ]
    },
    {
      "cell_type": "code",
      "execution_count": 46,
      "metadata": {
        "ExecuteTime": {
          "end_time": "2022-07-20T12:39:29.463076Z",
          "start_time": "2022-07-20T12:39:29.456104Z"
        },
        "hidden": true,
        "id": "HTlGbz12QBsG"
      },
      "outputs": [],
      "source": [
        "X = df.loc[:, ['Pclass']]\n",
        "y = df['Survived']"
      ]
    },
    {
      "cell_type": "code",
      "execution_count": 47,
      "metadata": {
        "ExecuteTime": {
          "end_time": "2022-07-20T12:39:31.180281Z",
          "start_time": "2022-07-20T12:39:31.173347Z"
        },
        "colab": {
          "base_uri": "https://localhost:8080/"
        },
        "hidden": true,
        "id": "NroDYDqoQB8Q",
        "outputId": "b8c0a0df-1ac0-4f56-fd23-a5b57f483e8b"
      },
      "outputs": [
        {
          "output_type": "execute_result",
          "data": {
            "text/plain": [
              "(889, 1)"
            ]
          },
          "metadata": {},
          "execution_count": 47
        }
      ],
      "source": [
        "X.shape"
      ]
    },
    {
      "cell_type": "code",
      "execution_count": 48,
      "metadata": {
        "ExecuteTime": {
          "end_time": "2022-07-20T12:39:32.797479Z",
          "start_time": "2022-07-20T12:39:32.789132Z"
        },
        "colab": {
          "base_uri": "https://localhost:8080/"
        },
        "hidden": true,
        "id": "iTufqdPOQQen",
        "outputId": "bede777c-373a-46c3-8476-6ef5a0970c11"
      },
      "outputs": [
        {
          "output_type": "execute_result",
          "data": {
            "text/plain": [
              "(889,)"
            ]
          },
          "metadata": {},
          "execution_count": 48
        }
      ],
      "source": [
        "y.shape"
      ]
    },
    {
      "cell_type": "code",
      "execution_count": 49,
      "metadata": {
        "ExecuteTime": {
          "end_time": "2022-07-20T12:39:35.580754Z",
          "start_time": "2022-07-20T12:39:35.575216Z"
        },
        "hidden": true,
        "id": "fEDg5KcNMTd_"
      },
      "outputs": [],
      "source": [
        "logReg = LogisticRegression(solver='lbfgs')"
      ]
    },
    {
      "cell_type": "code",
      "execution_count": 50,
      "metadata": {
        "ExecuteTime": {
          "end_time": "2022-07-20T12:39:39.823174Z",
          "start_time": "2022-07-20T12:39:38.329479Z"
        },
        "colab": {
          "base_uri": "https://localhost:8080/"
        },
        "hidden": true,
        "id": "vAX6vC4sMThj",
        "outputId": "7111df2b-8dc5-4abf-e379-a691da6eb748"
      },
      "outputs": [
        {
          "output_type": "stream",
          "name": "stdout",
          "text": [
            "Average accuracy of logistic regression model:  0.67834\n"
          ]
        }
      ],
      "source": [
        "avg_accur = cross_val_score(logReg, X, y, scoring='accuracy', \\\n",
        "                           cv=5, n_jobs=-1).mean()\n",
        "print(f'Average accuracy of logistic regression model: {avg_accur: 0.5f}')"
      ]
    },
    {
      "cell_type": "markdown",
      "metadata": {
        "hidden": true,
        "id": "_lkDnvg5QkOi"
      },
      "source": [
        "* We will compare the above average acccuracy with the **null accuracy**. \n",
        "\n",
        "* **Null accuracy** is the accuracy obtained by predicting the most frequent class."
      ]
    },
    {
      "cell_type": "code",
      "execution_count": 51,
      "metadata": {
        "ExecuteTime": {
          "end_time": "2022-07-20T12:39:42.661173Z",
          "start_time": "2022-07-20T12:39:42.649189Z"
        },
        "colab": {
          "base_uri": "https://localhost:8080/"
        },
        "hidden": true,
        "id": "lml4y5B1RAnf",
        "outputId": "3db8b843-0dd1-4eea-8b64-81cb4779cb36"
      },
      "outputs": [
        {
          "output_type": "stream",
          "name": "stdout",
          "text": [
            "Null accuracy:\n",
            "0    0.617548\n",
            "1    0.382452\n",
            "Name: Survived, dtype: float64\n"
          ]
        }
      ],
      "source": [
        "null_accur = y.value_counts(normalize=True)\n",
        "print(f'Null accuracy:\\n{null_accur}')"
      ]
    },
    {
      "cell_type": "markdown",
      "metadata": {
        "hidden": true,
        "id": "WxfEaj-xRZfK"
      },
      "source": [
        "**Finally! The motivation for this tutorial - How can I add more features to my model and cross-validate it?**"
      ]
    },
    {
      "cell_type": "markdown",
      "metadata": {
        "id": "KcFNnhixSeSk"
      },
      "source": [
        "## **<a name=\"5\">Section-5: Encoding categorical features and setting up a pipeline</a>**"
      ]
    },
    {
      "cell_type": "markdown",
      "metadata": {
        "id": "VZ2zJJMTVxhS"
      },
      "source": [
        "Categorical (text) features are of two types:\n",
        "\n",
        "* **Nominal:** Classes are intrinsically unordered. For example: The `Sex` variable with classes, \"Male\" and \"Female\", is a **nominal** variable because there is no natural/logical order among its classes. The same is true for the categorical variable `Embarked`.\n",
        "\n",
        "* **Ordinal:** Classes have a inherent (natural) order. For example: A categorical variable with the classes, \"Low\", \"High\", \"Medium\", is **ordinal** because there is a natural (and also logical) order among the classes, namely, \"Low\" < \"Medium\" < \"High\". "
      ]
    },
    {
      "cell_type": "markdown",
      "metadata": {
        "id": "sB6QTMRHXK7m"
      },
      "source": [
        "* Encoding **nominal** categorical variables is known as \"dummy\" or \"one-hot\" encoding. The former term is used by the Pandas library while the latter term is used by the Scikit-Learn library. \n",
        "\n",
        "\n",
        "* Encoding of **ordinal** features is performed with the `OrdinalEncoder` function from the Scikit-Learn library. \n",
        "\n",
        "\n",
        "* To gain a quick but effective understanding of the `OneHotEncoder` and the `OrdinalEncoder`, refer to [this](https://www.youtube.com/watch?v=0w78CHM_ubM&list=PL5-da3qGB5ID7YYAqireYEew2mWVvgmj6&index=6) YouTube tutorial by Data School."
      ]
    },
    {
      "cell_type": "markdown",
      "metadata": {
        "id": "50FoupQh5DOu"
      },
      "source": [
        "Let us now see how we can use the `OneHotEncoder` for encoding the **nominal** categorical variables present in our dataframe, namely, `Sex` and `Embarked`."
      ]
    },
    {
      "cell_type": "markdown",
      "metadata": {
        "id": "GVsn6-RHXcfZ"
      },
      "source": [
        "* Instantiation of the `OneHotEncoder()` function with `sparse=False` is done below, for illustration purposes only. In real-life scenarios, `sparse=True` is the default option.\n",
        "\n",
        "\n",
        "* The `drop` parameter allows us to avoid the dummy variable trap.\n",
        "    * `drop=None`: Default and implies, retain all features.  \n",
        "    * `drop='first'`: Drop the first category in each feature. If only one category is present, the feature will be dropped entirely.\n",
        "    * `drop='if_binary'`: Drop the first category in each feature with two categories. Features with 1 or more than 2 categories are left intact.\n",
        "    \n",
        "\n",
        "* The `handle_unknown='ignore'` parameter allows us to ignore any new data (incoming data) whose \"format\" does not match the one  used to initialize the `OneHotEncoder()` function. The default value is `handle_unknown='error'` and works with any value of the `drop` argument. However, for the `handle_unknown='ignore'` to work, `drop` must be set to `None`."
      ]
    },
    {
      "cell_type": "code",
      "execution_count": 52,
      "metadata": {
        "ExecuteTime": {
          "end_time": "2022-07-20T13:51:23.118432Z",
          "start_time": "2022-07-20T13:51:23.111720Z"
        },
        "id": "eJs6eoL2Xci6"
      },
      "outputs": [],
      "source": [
        "ohe = OneHotEncoder(drop='if_binary', sparse=False)  \n",
        "ohe.fit_transform(df.loc[:, ['Sex']]);"
      ]
    },
    {
      "cell_type": "code",
      "execution_count": 53,
      "metadata": {
        "ExecuteTime": {
          "end_time": "2022-07-20T12:40:19.303990Z",
          "start_time": "2022-07-20T12:40:19.298692Z"
        },
        "colab": {
          "base_uri": "https://localhost:8080/"
        },
        "id": "y6GBHlh3ZZCe",
        "outputId": "be888517-3cc5-4bdd-ddb3-31075e869391"
      },
      "outputs": [
        {
          "output_type": "execute_result",
          "data": {
            "text/plain": [
              "[array(['female', 'male'], dtype=object)]"
            ]
          },
          "metadata": {},
          "execution_count": 53
        }
      ],
      "source": [
        "ohe.categories_"
      ]
    },
    {
      "cell_type": "code",
      "execution_count": 54,
      "metadata": {
        "ExecuteTime": {
          "end_time": "2022-07-20T13:51:25.611499Z",
          "start_time": "2022-07-20T13:51:25.603134Z"
        },
        "id": "zVqH0zBfZXcw"
      },
      "outputs": [],
      "source": [
        "ohe = OneHotEncoder(drop='first', sparse=False)\n",
        "ohe.fit_transform(df.loc[:, ['Embarked']]);"
      ]
    },
    {
      "cell_type": "code",
      "execution_count": 55,
      "metadata": {
        "ExecuteTime": {
          "end_time": "2022-07-20T12:40:28.618648Z",
          "start_time": "2022-07-20T12:40:28.612937Z"
        },
        "colab": {
          "base_uri": "https://localhost:8080/"
        },
        "id": "eLtdNEKrZp9u",
        "outputId": "3b2c6d42-ce21-4237-e33a-022f864d236f"
      },
      "outputs": [
        {
          "output_type": "execute_result",
          "data": {
            "text/plain": [
              "[array(['C', 'Q', 'S'], dtype=object)]"
            ]
          },
          "metadata": {},
          "execution_count": 55
        }
      ],
      "source": [
        "ohe.categories_"
      ]
    },
    {
      "cell_type": "markdown",
      "metadata": {
        "id": "9j42kL5JV6AL"
      },
      "source": [
        "**We use column transformer whenever the features in our dataset needs different preprocessing. Let us now learn how to use Scikit-Learn's column transformer!** "
      ]
    },
    {
      "cell_type": "code",
      "execution_count": 56,
      "metadata": {
        "ExecuteTime": {
          "end_time": "2022-07-20T13:51:35.412810Z",
          "start_time": "2022-07-20T13:51:35.409055Z"
        },
        "id": "O0U24-mg5DOx"
      },
      "outputs": [],
      "source": [
        "# Approach 1\n",
        "\n",
        "cat_var_preprocess_1 = make_column_transformer(\n",
        "    (OneHotEncoder(handle_unknown='ignore'), ['Sex', 'Embarked']), \n",
        "    remainder='passthrough') "
      ]
    },
    {
      "cell_type": "code",
      "execution_count": 57,
      "metadata": {
        "ExecuteTime": {
          "end_time": "2022-07-20T13:37:30.627715Z",
          "start_time": "2022-07-20T13:37:30.621992Z"
        },
        "id": "hlFYHjKu5DOy"
      },
      "outputs": [],
      "source": [
        "# Approach 2\n",
        "\n",
        "cat_var_preprocess_2 = make_column_transformer(\n",
        "    (OneHotEncoder(drop='if_binary') , ['Sex']), \n",
        "    (OneHotEncoder(drop='first'), ['Embarked']), \n",
        "    remainder='passthrough') "
      ]
    },
    {
      "cell_type": "markdown",
      "metadata": {
        "id": "IPSFlG9mV6EE"
      },
      "source": [
        "In the above examples, the `cat_var_preprocess_1` and `cat_var_preprocess_2` are our column transformers, created to illustrate a specific purpose as we will see below. All they do is, one-hot encode the **nominal** categorical variables, `Sex` and `Embarked`. "
      ]
    },
    {
      "cell_type": "markdown",
      "metadata": {
        "id": "BTRoFwWk5DOy"
      },
      "source": [
        "Instead of directly calling the columns to preprocess, we can make use of another function from the `sklearn.compose` module, namely, `make_column_selector()`. To understand the use of this function, refer to the following YouTube video by Data School:\n",
        "[Seven ways to select columns using ColumnTransformer](https://www.youtube.com/watch?v=sCt4LVD5hPc&list=PL5-da3qGB5ID7YYAqireYEew2mWVvgmj6&index=3&t=155s)\n",
        "\n",
        "Let us illustrate one of the three ways of using the `make_column_selector()` function inside a `make_column_transformer()` function. "
      ]
    },
    {
      "cell_type": "code",
      "execution_count": 58,
      "metadata": {
        "ExecuteTime": {
          "end_time": "2022-07-20T13:51:47.099967Z",
          "start_time": "2022-07-20T13:51:47.093774Z"
        },
        "id": "hImlAVSn5DOz"
      },
      "outputs": [],
      "source": [
        "# Using approach 1 from above\n",
        "# Below we will declare the columns inside the `make_column_selector`\n",
        "# function using regex\n",
        "\n",
        "cat_var_preprocess_3 = make_column_transformer(\n",
        "    (OneHotEncoder(handle_unknown='ignore'), make_column_selector('S|E')),   \n",
        "    remainder='passthrough') "
      ]
    },
    {
      "cell_type": "markdown",
      "metadata": {
        "id": "fd3eHhmh5DOz"
      },
      "source": [
        "Now, let us use this column transformer and the logistic regression model to build a `sklearn` pipeline which will be eventually fed into the `cross_val_score()` function."
      ]
    },
    {
      "cell_type": "code",
      "execution_count": 59,
      "metadata": {
        "ExecuteTime": {
          "end_time": "2022-07-20T13:35:57.633907Z",
          "start_time": "2022-07-20T13:35:57.619459Z"
        },
        "id": "TzfQCtpB5DOz",
        "outputId": "2dc65bf0-70ed-48f7-8448-cda271e2707d",
        "colab": {
          "base_uri": "https://localhost:8080/",
          "height": 206
        }
      },
      "outputs": [
        {
          "output_type": "execute_result",
          "data": {
            "text/plain": [
              "   Pclass     Sex Embarked\n",
              "0       3    male        S\n",
              "1       1  female        C\n",
              "2       3  female        S\n",
              "3       1  female        S\n",
              "4       3    male        S"
            ],
            "text/html": [
              "\n",
              "  <div id=\"df-b403fac3-020f-4098-a78b-9677414addfb\">\n",
              "    <div class=\"colab-df-container\">\n",
              "      <div>\n",
              "<style scoped>\n",
              "    .dataframe tbody tr th:only-of-type {\n",
              "        vertical-align: middle;\n",
              "    }\n",
              "\n",
              "    .dataframe tbody tr th {\n",
              "        vertical-align: top;\n",
              "    }\n",
              "\n",
              "    .dataframe thead th {\n",
              "        text-align: right;\n",
              "    }\n",
              "</style>\n",
              "<table border=\"1\" class=\"dataframe\">\n",
              "  <thead>\n",
              "    <tr style=\"text-align: right;\">\n",
              "      <th></th>\n",
              "      <th>Pclass</th>\n",
              "      <th>Sex</th>\n",
              "      <th>Embarked</th>\n",
              "    </tr>\n",
              "  </thead>\n",
              "  <tbody>\n",
              "    <tr>\n",
              "      <th>0</th>\n",
              "      <td>3</td>\n",
              "      <td>male</td>\n",
              "      <td>S</td>\n",
              "    </tr>\n",
              "    <tr>\n",
              "      <th>1</th>\n",
              "      <td>1</td>\n",
              "      <td>female</td>\n",
              "      <td>C</td>\n",
              "    </tr>\n",
              "    <tr>\n",
              "      <th>2</th>\n",
              "      <td>3</td>\n",
              "      <td>female</td>\n",
              "      <td>S</td>\n",
              "    </tr>\n",
              "    <tr>\n",
              "      <th>3</th>\n",
              "      <td>1</td>\n",
              "      <td>female</td>\n",
              "      <td>S</td>\n",
              "    </tr>\n",
              "    <tr>\n",
              "      <th>4</th>\n",
              "      <td>3</td>\n",
              "      <td>male</td>\n",
              "      <td>S</td>\n",
              "    </tr>\n",
              "  </tbody>\n",
              "</table>\n",
              "</div>\n",
              "      <button class=\"colab-df-convert\" onclick=\"convertToInteractive('df-b403fac3-020f-4098-a78b-9677414addfb')\"\n",
              "              title=\"Convert this dataframe to an interactive table.\"\n",
              "              style=\"display:none;\">\n",
              "        \n",
              "  <svg xmlns=\"http://www.w3.org/2000/svg\" height=\"24px\"viewBox=\"0 0 24 24\"\n",
              "       width=\"24px\">\n",
              "    <path d=\"M0 0h24v24H0V0z\" fill=\"none\"/>\n",
              "    <path d=\"M18.56 5.44l.94 2.06.94-2.06 2.06-.94-2.06-.94-.94-2.06-.94 2.06-2.06.94zm-11 1L8.5 8.5l.94-2.06 2.06-.94-2.06-.94L8.5 2.5l-.94 2.06-2.06.94zm10 10l.94 2.06.94-2.06 2.06-.94-2.06-.94-.94-2.06-.94 2.06-2.06.94z\"/><path d=\"M17.41 7.96l-1.37-1.37c-.4-.4-.92-.59-1.43-.59-.52 0-1.04.2-1.43.59L10.3 9.45l-7.72 7.72c-.78.78-.78 2.05 0 2.83L4 21.41c.39.39.9.59 1.41.59.51 0 1.02-.2 1.41-.59l7.78-7.78 2.81-2.81c.8-.78.8-2.07 0-2.86zM5.41 20L4 18.59l7.72-7.72 1.47 1.35L5.41 20z\"/>\n",
              "  </svg>\n",
              "      </button>\n",
              "      \n",
              "  <style>\n",
              "    .colab-df-container {\n",
              "      display:flex;\n",
              "      flex-wrap:wrap;\n",
              "      gap: 12px;\n",
              "    }\n",
              "\n",
              "    .colab-df-convert {\n",
              "      background-color: #E8F0FE;\n",
              "      border: none;\n",
              "      border-radius: 50%;\n",
              "      cursor: pointer;\n",
              "      display: none;\n",
              "      fill: #1967D2;\n",
              "      height: 32px;\n",
              "      padding: 0 0 0 0;\n",
              "      width: 32px;\n",
              "    }\n",
              "\n",
              "    .colab-df-convert:hover {\n",
              "      background-color: #E2EBFA;\n",
              "      box-shadow: 0px 1px 2px rgba(60, 64, 67, 0.3), 0px 1px 3px 1px rgba(60, 64, 67, 0.15);\n",
              "      fill: #174EA6;\n",
              "    }\n",
              "\n",
              "    [theme=dark] .colab-df-convert {\n",
              "      background-color: #3B4455;\n",
              "      fill: #D2E3FC;\n",
              "    }\n",
              "\n",
              "    [theme=dark] .colab-df-convert:hover {\n",
              "      background-color: #434B5C;\n",
              "      box-shadow: 0px 1px 3px 1px rgba(0, 0, 0, 0.15);\n",
              "      filter: drop-shadow(0px 1px 2px rgba(0, 0, 0, 0.3));\n",
              "      fill: #FFFFFF;\n",
              "    }\n",
              "  </style>\n",
              "\n",
              "      <script>\n",
              "        const buttonEl =\n",
              "          document.querySelector('#df-b403fac3-020f-4098-a78b-9677414addfb button.colab-df-convert');\n",
              "        buttonEl.style.display =\n",
              "          google.colab.kernel.accessAllowed ? 'block' : 'none';\n",
              "\n",
              "        async function convertToInteractive(key) {\n",
              "          const element = document.querySelector('#df-b403fac3-020f-4098-a78b-9677414addfb');\n",
              "          const dataTable =\n",
              "            await google.colab.kernel.invokeFunction('convertToInteractive',\n",
              "                                                     [key], {});\n",
              "          if (!dataTable) return;\n",
              "\n",
              "          const docLinkHtml = 'Like what you see? Visit the ' +\n",
              "            '<a target=\"_blank\" href=https://colab.research.google.com/notebooks/data_table.ipynb>data table notebook</a>'\n",
              "            + ' to learn more about interactive tables.';\n",
              "          element.innerHTML = '';\n",
              "          dataTable['output_type'] = 'display_data';\n",
              "          await google.colab.output.renderOutput(dataTable, element);\n",
              "          const docLink = document.createElement('div');\n",
              "          docLink.innerHTML = docLinkHtml;\n",
              "          element.appendChild(docLink);\n",
              "        }\n",
              "      </script>\n",
              "    </div>\n",
              "  </div>\n",
              "  "
            ]
          },
          "metadata": {},
          "execution_count": 59
        }
      ],
      "source": [
        "################################################################\n",
        "# Recreate the freature matrix with all the necessary columns\n",
        "################################################################\n",
        "\n",
        "X = df.loc[:, ['Pclass', 'Sex', 'Embarked']]\n",
        "X.head()"
      ]
    },
    {
      "cell_type": "code",
      "execution_count": 60,
      "metadata": {
        "ExecuteTime": {
          "end_time": "2022-07-20T13:37:41.588079Z",
          "start_time": "2022-07-20T13:37:41.583417Z"
        },
        "id": "1hJ_vSDSV6Hb"
      },
      "outputs": [],
      "source": [
        "pipe1 = make_pipeline(cat_var_preprocess_1, logReg)\n",
        "pipe2 = make_pipeline(cat_var_preprocess_2, logReg)\n",
        "pipe3 = make_pipeline(cat_var_preprocess_3, logReg)"
      ]
    },
    {
      "cell_type": "code",
      "execution_count": 61,
      "metadata": {
        "ExecuteTime": {
          "end_time": "2022-07-20T13:51:51.161184Z",
          "start_time": "2022-07-20T13:51:50.983784Z"
        },
        "id": "AxeT-lty5DO0",
        "outputId": "bee33f90-2e14-40a0-8f84-72434f3fb8fc",
        "colab": {
          "base_uri": "https://localhost:8080/"
        }
      },
      "outputs": [
        {
          "output_type": "stream",
          "name": "stdout",
          "text": [
            "Average accuracy using `pipe1`:  0.77279\n",
            "\n",
            "Average accuracy using `pipe2`:  0.77279\n",
            "\n",
            "Average accuracy using `pipe3`:  0.77279\n"
          ]
        }
      ],
      "source": [
        "avg_accur1 = cross_val_score(pipe1, X, y, cv=5, scoring='accuracy').mean()\n",
        "print(f'Average accuracy using `pipe1`: {avg_accur1: 0.5f}\\n')\n",
        "avg_accur2 = cross_val_score(pipe2, X, y, cv=5, scoring='accuracy').mean()\n",
        "print(f'Average accuracy using `pipe2`: {avg_accur2: 0.5f}\\n')\n",
        "avg_accur3 = cross_val_score(pipe3, X, y, cv=5, scoring='accuracy').mean()\n",
        "print(f'Average accuracy using `pipe3`: {avg_accur3: 0.5f}')"
      ]
    },
    {
      "cell_type": "markdown",
      "metadata": {
        "id": "ksSoqIx05DO0"
      },
      "source": [
        "We thus find that the average accuracy of our logistic regression model increases when `Sex` and `Embarked` features are included on top of the existing feature, `Pclass`.\n",
        "\n",
        "__NOTE:__ All the pipelines have the same average accuracy! This cleanly illustrates:\n",
        "* The use of `make_column_selector()` function inside `make_column_transformer()` is completely optional.\n",
        "* Inside a pipeline, declaring the `drop` argument of the `OneHotEncoder()` function is also optional. "
      ]
    },
    {
      "cell_type": "code",
      "execution_count": 62,
      "metadata": {
        "ExecuteTime": {
          "end_time": "2022-07-20T13:45:12.954931Z",
          "start_time": "2022-07-20T13:45:12.942561Z"
        },
        "id": "1SchSf9P5DO1",
        "outputId": "55a56e5d-5ea3-435a-9a3e-7be7c40e6068",
        "colab": {
          "base_uri": "https://localhost:8080/",
          "height": 206
        }
      },
      "outputs": [
        {
          "output_type": "execute_result",
          "data": {
            "text/plain": [
              "     Pclass     Sex Embarked\n",
              "511       3    male        S\n",
              "613       3    male        Q\n",
              "615       2  female        S\n",
              "337       1  female        C\n",
              "718       3    male        Q"
            ],
            "text/html": [
              "\n",
              "  <div id=\"df-1c56b127-6076-4055-b3c3-7724793d5909\">\n",
              "    <div class=\"colab-df-container\">\n",
              "      <div>\n",
              "<style scoped>\n",
              "    .dataframe tbody tr th:only-of-type {\n",
              "        vertical-align: middle;\n",
              "    }\n",
              "\n",
              "    .dataframe tbody tr th {\n",
              "        vertical-align: top;\n",
              "    }\n",
              "\n",
              "    .dataframe thead th {\n",
              "        text-align: right;\n",
              "    }\n",
              "</style>\n",
              "<table border=\"1\" class=\"dataframe\">\n",
              "  <thead>\n",
              "    <tr style=\"text-align: right;\">\n",
              "      <th></th>\n",
              "      <th>Pclass</th>\n",
              "      <th>Sex</th>\n",
              "      <th>Embarked</th>\n",
              "    </tr>\n",
              "  </thead>\n",
              "  <tbody>\n",
              "    <tr>\n",
              "      <th>511</th>\n",
              "      <td>3</td>\n",
              "      <td>male</td>\n",
              "      <td>S</td>\n",
              "    </tr>\n",
              "    <tr>\n",
              "      <th>613</th>\n",
              "      <td>3</td>\n",
              "      <td>male</td>\n",
              "      <td>Q</td>\n",
              "    </tr>\n",
              "    <tr>\n",
              "      <th>615</th>\n",
              "      <td>2</td>\n",
              "      <td>female</td>\n",
              "      <td>S</td>\n",
              "    </tr>\n",
              "    <tr>\n",
              "      <th>337</th>\n",
              "      <td>1</td>\n",
              "      <td>female</td>\n",
              "      <td>C</td>\n",
              "    </tr>\n",
              "    <tr>\n",
              "      <th>718</th>\n",
              "      <td>3</td>\n",
              "      <td>male</td>\n",
              "      <td>Q</td>\n",
              "    </tr>\n",
              "  </tbody>\n",
              "</table>\n",
              "</div>\n",
              "      <button class=\"colab-df-convert\" onclick=\"convertToInteractive('df-1c56b127-6076-4055-b3c3-7724793d5909')\"\n",
              "              title=\"Convert this dataframe to an interactive table.\"\n",
              "              style=\"display:none;\">\n",
              "        \n",
              "  <svg xmlns=\"http://www.w3.org/2000/svg\" height=\"24px\"viewBox=\"0 0 24 24\"\n",
              "       width=\"24px\">\n",
              "    <path d=\"M0 0h24v24H0V0z\" fill=\"none\"/>\n",
              "    <path d=\"M18.56 5.44l.94 2.06.94-2.06 2.06-.94-2.06-.94-.94-2.06-.94 2.06-2.06.94zm-11 1L8.5 8.5l.94-2.06 2.06-.94-2.06-.94L8.5 2.5l-.94 2.06-2.06.94zm10 10l.94 2.06.94-2.06 2.06-.94-2.06-.94-.94-2.06-.94 2.06-2.06.94z\"/><path d=\"M17.41 7.96l-1.37-1.37c-.4-.4-.92-.59-1.43-.59-.52 0-1.04.2-1.43.59L10.3 9.45l-7.72 7.72c-.78.78-.78 2.05 0 2.83L4 21.41c.39.39.9.59 1.41.59.51 0 1.02-.2 1.41-.59l7.78-7.78 2.81-2.81c.8-.78.8-2.07 0-2.86zM5.41 20L4 18.59l7.72-7.72 1.47 1.35L5.41 20z\"/>\n",
              "  </svg>\n",
              "      </button>\n",
              "      \n",
              "  <style>\n",
              "    .colab-df-container {\n",
              "      display:flex;\n",
              "      flex-wrap:wrap;\n",
              "      gap: 12px;\n",
              "    }\n",
              "\n",
              "    .colab-df-convert {\n",
              "      background-color: #E8F0FE;\n",
              "      border: none;\n",
              "      border-radius: 50%;\n",
              "      cursor: pointer;\n",
              "      display: none;\n",
              "      fill: #1967D2;\n",
              "      height: 32px;\n",
              "      padding: 0 0 0 0;\n",
              "      width: 32px;\n",
              "    }\n",
              "\n",
              "    .colab-df-convert:hover {\n",
              "      background-color: #E2EBFA;\n",
              "      box-shadow: 0px 1px 2px rgba(60, 64, 67, 0.3), 0px 1px 3px 1px rgba(60, 64, 67, 0.15);\n",
              "      fill: #174EA6;\n",
              "    }\n",
              "\n",
              "    [theme=dark] .colab-df-convert {\n",
              "      background-color: #3B4455;\n",
              "      fill: #D2E3FC;\n",
              "    }\n",
              "\n",
              "    [theme=dark] .colab-df-convert:hover {\n",
              "      background-color: #434B5C;\n",
              "      box-shadow: 0px 1px 3px 1px rgba(0, 0, 0, 0.15);\n",
              "      filter: drop-shadow(0px 1px 2px rgba(0, 0, 0, 0.3));\n",
              "      fill: #FFFFFF;\n",
              "    }\n",
              "  </style>\n",
              "\n",
              "      <script>\n",
              "        const buttonEl =\n",
              "          document.querySelector('#df-1c56b127-6076-4055-b3c3-7724793d5909 button.colab-df-convert');\n",
              "        buttonEl.style.display =\n",
              "          google.colab.kernel.accessAllowed ? 'block' : 'none';\n",
              "\n",
              "        async function convertToInteractive(key) {\n",
              "          const element = document.querySelector('#df-1c56b127-6076-4055-b3c3-7724793d5909');\n",
              "          const dataTable =\n",
              "            await google.colab.kernel.invokeFunction('convertToInteractive',\n",
              "                                                     [key], {});\n",
              "          if (!dataTable) return;\n",
              "\n",
              "          const docLinkHtml = 'Like what you see? Visit the ' +\n",
              "            '<a target=\"_blank\" href=https://colab.research.google.com/notebooks/data_table.ipynb>data table notebook</a>'\n",
              "            + ' to learn more about interactive tables.';\n",
              "          element.innerHTML = '';\n",
              "          dataTable['output_type'] = 'display_data';\n",
              "          await google.colab.output.renderOutput(dataTable, element);\n",
              "          const docLink = document.createElement('div');\n",
              "          docLink.innerHTML = docLinkHtml;\n",
              "          element.appendChild(docLink);\n",
              "        }\n",
              "      </script>\n",
              "    </div>\n",
              "  </div>\n",
              "  "
            ]
          },
          "metadata": {},
          "execution_count": 62
        }
      ],
      "source": [
        "################################################\n",
        "# Quick generation of some new data through\n",
        "# random selection of few columns from the train\n",
        "# data\n",
        "################################################\n",
        "\n",
        "X_new = df.sample(n=10, random_state=101).drop(columns=['Survived'], axis=1)\n",
        "X_new.head()"
      ]
    },
    {
      "cell_type": "code",
      "execution_count": 63,
      "metadata": {
        "ExecuteTime": {
          "end_time": "2022-07-20T13:45:15.891852Z",
          "start_time": "2022-07-20T13:45:15.865521Z"
        },
        "id": "duKQ1edA5DO2",
        "outputId": "ec25672e-5420-4942-8a95-acf6ad0016c8",
        "colab": {
          "base_uri": "https://localhost:8080/"
        }
      },
      "outputs": [
        {
          "output_type": "execute_result",
          "data": {
            "text/plain": [
              "Pipeline(steps=[('columntransformer',\n",
              "                 ColumnTransformer(remainder='passthrough',\n",
              "                                   transformers=[('onehotencoder',\n",
              "                                                  OneHotEncoder(handle_unknown='ignore'),\n",
              "                                                  ['Sex', 'Embarked'])])),\n",
              "                ('logisticregression', LogisticRegression())])"
            ]
          },
          "metadata": {},
          "execution_count": 63
        }
      ],
      "source": [
        "# Fit pipeline on train data\n",
        "\n",
        "pipe1.fit(X=X, y=y)"
      ]
    },
    {
      "cell_type": "code",
      "execution_count": 64,
      "metadata": {
        "ExecuteTime": {
          "end_time": "2022-07-20T13:45:36.605386Z",
          "start_time": "2022-07-20T13:45:36.596767Z"
        },
        "id": "upTZaUiG5DO2",
        "outputId": "9f7a4527-1999-42f1-dfaa-0cb2ce9e069d",
        "colab": {
          "base_uri": "https://localhost:8080/"
        }
      },
      "outputs": [
        {
          "output_type": "execute_result",
          "data": {
            "text/plain": [
              "array([0, 0, 1, 1, 0, 0, 0, 0, 0, 1])"
            ]
          },
          "metadata": {},
          "execution_count": 64
        }
      ],
      "source": [
        "# Make predictions on new data with pipeline\n",
        "\n",
        "pipe1.predict(X=X_new)"
      ]
    },
    {
      "cell_type": "code",
      "execution_count": 64,
      "metadata": {
        "id": "YF7Cp99C5DO3"
      },
      "outputs": [],
      "source": [
        ""
      ]
    }
  ],
  "metadata": {
    "colab": {
      "collapsed_sections": [
        "uuSedACcJ3Gp",
        "ugig1yozKdmf",
        "Ui0-m-__MTbo",
        "KcFNnhixSeSk"
      ],
      "name": "Annotated_Tutorial__NominalEncoding_ColumnTransformer_Pipeline.ipynb",
      "provenance": [],
      "include_colab_link": true
    },
    "kernelspec": {
      "display_name": "Python [conda env:ds_env]",
      "language": "python",
      "name": "conda-env-ds_env-py"
    },
    "language_info": {
      "codemirror_mode": {
        "name": "ipython",
        "version": 3
      },
      "file_extension": ".py",
      "mimetype": "text/x-python",
      "name": "python",
      "nbconvert_exporter": "python",
      "pygments_lexer": "ipython3",
      "version": "3.9.7"
    },
    "latex_envs": {
      "LaTeX_envs_menu_present": true,
      "autoclose": false,
      "autocomplete": true,
      "bibliofile": "biblio.bib",
      "cite_by": "apalike",
      "current_citInitial": 1,
      "eqLabelWithNumbers": true,
      "eqNumInitial": 1,
      "hotkeys": {
        "equation": "Ctrl-E",
        "itemize": "Ctrl-I"
      },
      "labels_anchors": false,
      "latex_user_defs": false,
      "report_style_numbering": false,
      "user_envs_cfg": false
    }
  },
  "nbformat": 4,
  "nbformat_minor": 0
}