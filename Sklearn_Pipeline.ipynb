{
  "nbformat": 4,
  "nbformat_minor": 0,
  "metadata": {
    "colab": {
      "name": "Sklearn_Pipeline.ipynb",
      "provenance": [],
      "collapsed_sections": [],
      "authorship_tag": "ABX9TyNrrbO5MHePme3LWvwf539x",
      "include_colab_link": true
    },
    "kernelspec": {
      "name": "python3",
      "display_name": "Python 3"
    },
    "language_info": {
      "name": "python"
    }
  },
  "cells": [
    {
      "cell_type": "markdown",
      "metadata": {
        "id": "view-in-github",
        "colab_type": "text"
      },
      "source": [
        "<a href=\"https://colab.research.google.com/github/rs2pydev/misc_py_topics/blob/main/Sklearn_Pipeline.ipynb\" target=\"_parent\"><img src=\"https://colab.research.google.com/assets/colab-badge.svg\" alt=\"Open In Colab\"/></a>"
      ]
    },
    {
      "cell_type": "markdown",
      "source": [
        "<h1><b>BUILDING MACHINE LEARNING PIPELINES WITH SCIKIT-LEARN</b></h1>"
      ],
      "metadata": {
        "id": "1Xstj_j9Qmx3"
      }
    },
    {
      "cell_type": "markdown",
      "source": [
        "<p>\n",
        "<font size=\"2\">\n",
        "<b>\n",
        "This tutorial is based on the following YouTube video: \n",
        "<a href=\"https://www.youtube.com/watch?v=jzKSAeJpC6s\">Understanding Pipeline in Machine Learning with Scikit-learn (<code>sklearn pipeline</code>)</a>\n",
        "</b>\n",
        "</font>\n",
        "</p>"
      ],
      "metadata": {
        "id": "d-CZ75F5Q0Ue"
      }
    },
    {
      "cell_type": "markdown",
      "source": [
        "<h2><b>1. MAIN CONCEPTS</b></h2>"
      ],
      "metadata": {
        "id": "RB28s7zdRYim"
      }
    },
    {
      "cell_type": "markdown",
      "source": [
        "<p>\n",
        "<ul type='I'>\n",
        "<li>\n",
        "A machine learning pipeline is a collection of sequential data preprocessing steps (called <b>transformers</b> in <code>sklearn</code>) that are chained together with a machine learning model (called <b>estimator</b> in <code>sklearn</code>). \n",
        "</li><br>\n",
        "<li>\n",
        "<b>Transformers</b> are generally meant for filtering and/or modifying the data. For instance, we will employ a <b>transformer</b> for the following purposes:\n",
        "<ul>\n",
        "<li>\n",
        "Data cleaning, including treatment of missing values\n",
        "</li>\n",
        "<li>\n",
        "Feature selection\n",
        "</li>\n",
        "<li>\n",
        "Feature engineering\n",
        "</li>\n",
        "<li>\n",
        "Target variable treatment\n",
        "</li>\n",
        "</ul>\n",
        "</li><br>\n",
        "<li>\n",
        "In <code>sklearn</code>, a <b>transformer</b> is a class that can implement the methods, <code>.fit()</code>, <code>.transform()</code>, and <code>.fit_transform()</code>.\n",
        "</li><br>\n",
        "<li>\n",
        "<b>Example:</b> We can employ  of a <b>transformer</b> to generate a new data matrix consisting of all polynomial combinations.\n",
        "</li><br>\n",
        "<li>\n",
        "<b>Estimators</b> on the other hand, are employed for learning from data. In simple terms, an <b>estimator</b> is basically the machine learning model that is being built for training.\n",
        "</li><br>\n",
        "<li>\n",
        "In <code>sklearn</code>, <b>estimators</b> are classes that implement the <code>.fit()</code> and <code>.predict()</code> methods.\n",
        "</li><br>\n",
        "<li>\n",
        "<b>Example:</b> A linear regrsssion or a logistic regression model.\n",
        "</li>\n",
        "</ol>\n",
        "</p>"
      ],
      "metadata": {
        "id": "zXNg7Pm-RqFZ"
      }
    },
    {
      "cell_type": "markdown",
      "source": [
        "<h4>We can also define a <b>pipeline</b> as the sequential application of a list of <b>transformers</b>, together with an <b>estimator</b>, on a given data set.</h4> "
      ],
      "metadata": {
        "id": "rjw0bElvTz0o"
      }
    },
    {
      "cell_type": "markdown",
      "source": [
        "<h2><b>2. BUILD A ML PIPELINE WITH <code>PolynomialFeatures</code> CLASS from <code>sklearn.preprocessing</code> MODULE</b></h2>"
      ],
      "metadata": {
        "id": "7_bhUneqXSAn"
      }
    },
    {
      "cell_type": "markdown",
      "source": [
        "<h3><b>2.1 NECESSARY IMPORTS</b></h3>"
      ],
      "metadata": {
        "id": "NiXl4C4BZAlv"
      }
    },
    {
      "cell_type": "code",
      "source": [
        "import numpy as np\n",
        "import matplotlib as mpl\n",
        "import sklearn as skl\n",
        "\n",
        "from matplotlib import pyplot as plt\n",
        "\n",
        "from sklearn.linear_model import LinearRegression\n",
        "from sklearn.preprocessing import PolynomialFeatures\n",
        "from sklearn.pipeline import make_pipeline, Pipeline\n",
        "\n",
        "print(f'numpy version: {np.__version__:s}')\n",
        "print(f'matplotlib version: {mpl.__version__:s}')\n",
        "print(f'sklearn version: {skl.__version__:s}')"
      ],
      "metadata": {
        "colab": {
          "base_uri": "https://localhost:8080/"
        },
        "id": "cFfVRD7iYYIB",
        "outputId": "faf81f9c-e649-4a21-e295-cc51da776a3a"
      },
      "execution_count": 1,
      "outputs": [
        {
          "output_type": "stream",
          "name": "stdout",
          "text": [
            "numpy version: 1.21.6\n",
            "matplotlib version: 3.2.2\n",
            "sklearn version: 1.0.2\n"
          ]
        }
      ]
    },
    {
      "cell_type": "markdown",
      "source": [
        "<h3><b>2.2 CREATE DATASET</b></h3>"
      ],
      "metadata": {
        "id": "OAk-V9-OYyLe"
      }
    },
    {
      "cell_type": "code",
      "source": [
        "X_train = 10 * np.random.normal(0, 1, 70)\n",
        "# Function: y = x^2 + Gaussian noise term\n",
        "y_train = 10 * (-X_train ** 2) + np.random.normal(-100, 100, 70)\n",
        "X_test = np.linspace(-30, 30, 100)"
      ],
      "metadata": {
        "id": "kHwcR-s7ZT_C"
      },
      "execution_count": 2,
      "outputs": []
    },
    {
      "cell_type": "markdown",
      "source": [
        "<h3><b>2.3 VISUALIZE DATASET</b></h3>"
      ],
      "metadata": {
        "id": "VpjHzE0BZwba"
      }
    },
    {
      "cell_type": "code",
      "source": [
        "plt.figure(figsize=(6,4), dpi=100)\n",
        "plt.scatter(X_train, y_train, s=15)\n",
        "plt.xlabel('Feature', fontsize=14)\n",
        "plt.ylabel('Response', fontsize=14)\n",
        "plt.show()"
      ],
      "metadata": {
        "colab": {
          "base_uri": "https://localhost:8080/",
          "height": 387
        },
        "id": "KnHkhoi1Z3sH",
        "outputId": "e158d0c5-c7da-44ba-9908-f0749055a4de"
      },
      "execution_count": 3,
      "outputs": [
        {
          "output_type": "display_data",
          "data": {
            "text/plain": [
              "<Figure size 600x400 with 1 Axes>"
            ],
            "image/png": "[encoded data removed]"
          },
          "metadata": {
            "needs_background": "light"
          }
        }
      ]
    },
    {
      "cell_type": "markdown",
      "source": [
        "<h3><b>2.3 CREATE LINEAR REGRESSION MODEL</b></h3>"
      ],
      "metadata": {
        "id": "NkYQBvvUaC4g"
      }
    },
    {
      "cell_type": "code",
      "source": [
        "lin_reg_model = LinearRegression()"
      ],
      "metadata": {
        "id": "bZtCv7rja8S5"
      },
      "execution_count": 4,
      "outputs": []
    },
    {
      "cell_type": "markdown",
      "source": [
        "<h3><b>2.4 TRAIN MODEL</b></h3>"
      ],
      "metadata": {
        "id": "bNusGU4ebEi9"
      }
    },
    {
      "cell_type": "code",
      "source": [
        "lin_reg_model.fit(X_train.reshape(-1, 1), y_train.reshape(-1, 1))"
      ],
      "metadata": {
        "colab": {
          "base_uri": "https://localhost:8080/"
        },
        "id": "rNRNP5w_bDJo",
        "outputId": "291f7839-1413-4e44-8b0a-de3eee7c45a2"
      },
      "execution_count": 5,
      "outputs": [
        {
          "output_type": "execute_result",
          "data": {
            "text/plain": [
              "LinearRegression()"
            ]
          },
          "metadata": {},
          "execution_count": 5
        }
      ]
    },
    {
      "cell_type": "markdown",
      "source": [
        "<h3><b>2.5 MAKE PREDICTIONS</b></h3>"
      ],
      "metadata": {
        "id": "C8RplumZbaxa"
      }
    },
    {
      "cell_type": "code",
      "source": [
        "y_preds = lin_reg_model.predict(X_test.reshape(-1, 1))"
      ],
      "metadata": {
        "id": "m6kWJx2Vbprd"
      },
      "execution_count": 6,
      "outputs": []
    },
    {
      "cell_type": "markdown",
      "source": [
        "<h3><b>2.6 VISUAL COMPARISION OF PREDICTIONS WITH TRUE VALUES</b></h3>"
      ],
      "metadata": {
        "id": "tJYx2W2tbvTW"
      }
    },
    {
      "cell_type": "code",
      "source": [
        "plt.figure(figsize=(6,4), dpi=100)\n",
        "plt.scatter(X_train, y_train, s=10, label='Actual')\n",
        "plt.scatter(X_test, y_preds, s=10, color='r', label='Predicted')\n",
        "plt.xlabel('Feature', fontsize=14)\n",
        "plt.ylabel('Response', fontsize=14)\n",
        "plt.legend()\n",
        "plt.show()"
      ],
      "metadata": {
        "colab": {
          "base_uri": "https://localhost:8080/",
          "height": 387
        },
        "id": "RmUxAXByb_-Q",
        "outputId": "404f3553-bf09-4bd4-eba9-4cc30b0554c1"
      },
      "execution_count": 7,
      "outputs": [
        {
          "output_type": "display_data",
          "data": {
            "text/plain": [
              "<Figure size 600x400 with 1 Axes>"
            ],
            "image/png": "[encoded data removed]"
          },
          "metadata": {
            "needs_background": "light"
          }
        }
      ]
    },
    {
      "cell_type": "markdown",
      "source": [
        "<h4><b>From the above comparison we find that the linear model cannot make correct predictions on the given , non-linear data! set</b></h4>"
      ],
      "metadata": {
        "id": "GRtiGanLcJDJ"
      }
    },
    {
      "cell_type": "markdown",
      "source": [
        "<h3><b>2.7 CREATE ML PIPELINE FOR DATA PREPROCESSING AND MODEL BUILDING</b></h3>"
      ],
      "metadata": {
        "id": "zr31_gRTdEzf"
      }
    },
    {
      "cell_type": "code",
      "source": [
        "poly_feats = PolynomialFeatures(degree=2)"
      ],
      "metadata": {
        "id": "lw5uFWRSdyqr"
      },
      "execution_count": 8,
      "outputs": []
    },
    {
      "cell_type": "code",
      "source": [
        "ml_pipe1 = Pipeline(steps=[\\\n",
        "                          ('poly_feats', poly_feats), \\\n",
        "                          ('lin_reg_model', lin_reg_model)\n",
        "                          ])\n",
        "\n",
        "print(f\"Desc. of first pipeline: {ml_pipe1}\")"
      ],
      "metadata": {
        "colab": {
          "base_uri": "https://localhost:8080/"
        },
        "id": "6VbTWKV8eMyb",
        "outputId": "8a4a977c-7225-49fd-dc19-9b1b42f078db"
      },
      "execution_count": 9,
      "outputs": [
        {
          "output_type": "stream",
          "name": "stdout",
          "text": [
            "Desc. of first pipeline: Pipeline(steps=[('poly_feats', PolynomialFeatures()),\n",
            "                ('lin_reg_model', LinearRegression())])\n"
          ]
        }
      ]
    },
    {
      "cell_type": "code",
      "source": [
        "ml_pipe2 = make_pipeline(poly_feats, lin_reg_model)\n",
        "\n",
        "print(f\"Desc. of second pipeline: {ml_pipe2}\")"
      ],
      "metadata": {
        "colab": {
          "base_uri": "https://localhost:8080/"
        },
        "id": "hGGvT26reoaE",
        "outputId": "09a2df88-ad87-4200-8878-c538c7f5c585"
      },
      "execution_count": 10,
      "outputs": [
        {
          "output_type": "stream",
          "name": "stdout",
          "text": [
            "Desc. of second pipeline: Pipeline(steps=[('polynomialfeatures', PolynomialFeatures()),\n",
            "                ('linearregression', LinearRegression())])\n"
          ]
        }
      ]
    },
    {
      "cell_type": "markdown",
      "source": [
        "<h3><b>2.8 TRAIN AND MAKE PREDICTIONS WITH PIPELINES</b></h3>"
      ],
      "metadata": {
        "id": "JEhUhIa2ggBO"
      }
    },
    {
      "cell_type": "code",
      "source": [
        "ml_pipe1.fit(X_train.reshape(-1, 1), y_train.reshape(-1, 1))\n",
        "ml_pipe2.fit(X_train.reshape(-1, 1), y_train.reshape(-1, 1))"
      ],
      "metadata": {
        "id": "8BOlKOgtfJ1q",
        "colab": {
          "base_uri": "https://localhost:8080/"
        },
        "outputId": "2ad000db-88ea-40a3-b5d8-40a4ec2eb96c"
      },
      "execution_count": 14,
      "outputs": [
        {
          "output_type": "execute_result",
          "data": {
            "text/plain": [
              "Pipeline(steps=[('polynomialfeatures', PolynomialFeatures()),\n",
              "                ('linearregression', LinearRegression())])"
            ]
          },
          "metadata": {},
          "execution_count": 14
        }
      ]
    },
    {
      "cell_type": "code",
      "source": [
        "y_preds1 = ml_pipe1.predict(X_test.reshape(-1, 1))\n",
        "y_preds2 = ml_pipe1.predict(X_test.reshape(-1, 1))"
      ],
      "metadata": {
        "id": "CXSnYbifgHSy"
      },
      "execution_count": 15,
      "outputs": []
    },
    {
      "cell_type": "markdown",
      "source": [
        "<h3><b>2.9 VISUAL COMPARISION OF PREDICTIONS WITH TRUE VALUES</b></h3>"
      ],
      "metadata": {
        "id": "Oacr8pNpgb-f"
      }
    },
    {
      "cell_type": "code",
      "source": [
        "plt.figure(figsize=(6,4), dpi=100)\n",
        "plt.scatter(X_train, y_train, s=3, color='b', label='Actual')\n",
        "plt.scatter(X_test, y_preds1, s=3, color='r', label='Preds. with Pipeline 1')\n",
        "plt.scatter(X_test, y_preds1, s=3, color='g', label='Preds. with Pipeline 2')\n",
        "plt.xlabel('Feature', fontsize=14)\n",
        "plt.ylabel('Response', fontsize=14)\n",
        "plt.legend()\n",
        "plt.show()"
      ],
      "metadata": {
        "colab": {
          "base_uri": "https://localhost:8080/",
          "height": 387
        },
        "id": "UulaI-LGgUNa",
        "outputId": "d656a062-6966-4ace-8451-e4251b78489d"
      },
      "execution_count": 18,
      "outputs": [
        {
          "output_type": "display_data",
          "data": {
            "text/plain": [
              "<Figure size 600x400 with 1 Axes>"
            ],
            "image/png": "[encoded data removed]"
          },
          "metadata": {
            "needs_background": "light"
          }
        }
      ]
    }
  ]
}